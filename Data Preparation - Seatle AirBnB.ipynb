{
 "cells": [
  {
   "cell_type": "markdown",
   "metadata": {},
   "source": [
    "# Data preparation - Seatle AirBnB"
   ]
  },
  {
   "cell_type": "code",
   "execution_count": 98,
   "metadata": {},
   "outputs": [],
   "source": [
    "#Importing standard liabraries\n",
    "\n",
    "%matplotlib inline\n",
    "\n",
    "import numpy as np\n",
    "import pandas as pd\n",
    "import matplotlib.pyplot as plt\n",
    "from sklearn.model_selection import train_test_split\n",
    "import seaborn as sns"
   ]
  },
  {
   "cell_type": "code",
   "execution_count": 99,
   "metadata": {},
   "outputs": [],
   "source": [
    "# Uploading AirBnB data sets\n",
    "\n",
    "calendar_df = pd.read_csv('calendar.csv')\n",
    "\n",
    "listing_df = pd.read_csv('listings.csv')\n",
    "\n",
    "reviews_df = pd.read_csv('reviews.csv')"
   ]
  },
  {
   "cell_type": "markdown",
   "metadata": {},
   "source": [
    "As we've seen in the __Data understanding__ step: \n",
    "\n",
    "- Some of the attributes from Seattle dataset have missing data\n",
    "    - Luckily for us only a small proportion of those attributes we are going to use in the model have around 10% of missing values. The rest of data is complete.\n",
    "- We've identified highly correlated attributes from the same categories\n",
    "    - Those attributes will be excluded from the training model "
   ]
  },
  {
   "cell_type": "markdown",
   "metadata": {},
   "source": [
    "It certainly does not make sense to use all categorical and numerical values for our data model. Hence we will focus on the most reasonable predictors. For instance for numerical variables we will exclude all highly  correlated attributes, this will save us from multicollinearity issues in the future. (See Data Understanding - correlation heatmap)\n",
    "\n",
    "As for categorical, we will have to apply a bit of common sense and exclude such as: state, city, picture_url, name etc."
   ]
  },
  {
   "cell_type": "markdown",
   "metadata": {},
   "source": [
    "## Removing less usefull attributes"
   ]
  },
  {
   "cell_type": "code",
   "execution_count": 100,
   "metadata": {},
   "outputs": [],
   "source": [
    "# Removing all rows from listing_df that don't have price records\n",
    "\n",
    "listing_df = listing_df.dropna(subset=['price'],axis=0)\n"
   ]
  },
  {
   "cell_type": "code",
   "execution_count": 101,
   "metadata": {},
   "outputs": [
    {
     "data": {
      "text/plain": [
       "Index(['id', 'last_scraped', 'transit', 'host_since', 'host_location',\n",
       "       'host_response_time', 'host_response_rate', 'host_acceptance_rate',\n",
       "       'host_is_superhost', 'host_neighbourhood', 'host_listings_count',\n",
       "       'host_total_listings_count', 'host_identity_verified', 'neighbourhood',\n",
       "       'neighbourhood_group_cleansed', 'latitude', 'longitude',\n",
       "       'property_type', 'room_type', 'accommodates', 'bathrooms', 'bedrooms',\n",
       "       'beds', 'bed_type', 'square_feet', 'price', 'weekly_price',\n",
       "       'monthly_price', 'security_deposit', 'cleaning_fee', 'guests_included',\n",
       "       'extra_people', 'minimum_nights', 'maximum_nights', 'has_availability',\n",
       "       'availability_30', 'availability_60', 'availability_90',\n",
       "       'availability_365', 'number_of_reviews', 'first_review', 'last_review',\n",
       "       'review_scores_rating', 'review_scores_accuracy',\n",
       "       'review_scores_cleanliness', 'review_scores_checkin',\n",
       "       'review_scores_communication', 'review_scores_location',\n",
       "       'review_scores_value', 'requires_license', 'license',\n",
       "       'instant_bookable', 'require_guest_phone_verification',\n",
       "       'calculated_host_listings_count', 'reviews_per_month'],\n",
       "      dtype='object')"
      ]
     },
     "execution_count": 101,
     "metadata": {},
     "output_type": "execute_result"
    }
   ],
   "source": [
    "# Cleaning categorical variables. \n",
    "\n",
    "\n",
    "\n",
    "listing_df = listing_df.drop(columns = ['amenities','calendar_updated','cancellation_policy','city',\n",
    "                                               'space', 'neighborhood_overview', 'notes',\n",
    "                                               'medium_url', 'xl_picture_url', 'host_url', 'is_location_exact',\n",
    "                                               'country','country_code','description','experiences_offered','calendar_last_scraped',\n",
    "                                               'host_has_profile_pic','host_id','host_name','host_picture_url', 'host_about', 'host_verifications',\n",
    "                                               'host_thumbnail_url','listing_url','market','name','neighbourhood_cleansed',\n",
    "                                               'jurisdiction_names', 'require_guest_profile_picture', 'smart_location',\n",
    "                                               'picture_url','scrape_id','state','street','summary','thumbnail_url','zipcode'])\n",
    "\n",
    "\n",
    "\n",
    "listing_df.columns"
   ]
  },
  {
   "cell_type": "code",
   "execution_count": 102,
   "metadata": {},
   "outputs": [
    {
     "data": {
      "text/plain": [
       "Index(['id', 'last_scraped', 'transit', 'host_since', 'host_location',\n",
       "       'host_response_time', 'host_acceptance_rate', 'host_is_superhost',\n",
       "       'host_neighbourhood', 'host_identity_verified', 'neighbourhood',\n",
       "       'neighbourhood_group_cleansed', 'latitude', 'longitude',\n",
       "       'property_type', 'room_type', 'bathrooms', 'beds', 'bed_type',\n",
       "       'square_feet', 'price', 'weekly_price', 'monthly_price',\n",
       "       'security_deposit', 'cleaning_fee', 'extra_people', 'minimum_nights',\n",
       "       'maximum_nights', 'has_availability', 'availability_30',\n",
       "       'number_of_reviews', 'first_review', 'last_review',\n",
       "       'review_scores_rating', 'review_scores_location', 'requires_license',\n",
       "       'license', 'instant_bookable', 'require_guest_phone_verification',\n",
       "       'calculated_host_listings_count', 'reviews_per_month'],\n",
       "      dtype='object')"
      ]
     },
     "execution_count": 102,
     "metadata": {},
     "output_type": "execute_result"
    }
   ],
   "source": [
    "# Cleaning nuemrical variables. \n",
    "\n",
    "listing_df = listing_df.drop(columns = ['host_response_rate','accommodates','bedrooms',\n",
    "                                                      'host_listings_count','host_total_listings_count', \n",
    "                                                     'guests_included','availability_60','availability_90', 'availability_365',\n",
    "                                                     'review_scores_accuracy','review_scores_cleanliness','review_scores_checkin',\n",
    "                                                     'review_scores_communication','review_scores_value'])\n",
    "listing_df.columns"
   ]
  },
  {
   "cell_type": "code",
   "execution_count": 103,
   "metadata": {},
   "outputs": [
    {
     "data": {
      "text/plain": [
       "['square_feet', 'weekly_price', 'monthly_price', 'security_deposit', 'license']"
      ]
     },
     "execution_count": 103,
     "metadata": {},
     "output_type": "execute_result"
    }
   ],
   "source": [
    "# Let's review attributes with more than 30% of missing values \n",
    "\n",
    "missing_30_pct_values = list(listing_df.columns[listing_df.isnull().mean() > 0.3])\n",
    "\n",
    "missing_30_pct_values"
   ]
  },
  {
   "cell_type": "code",
   "execution_count": 104,
   "metadata": {},
   "outputs": [],
   "source": [
    "# Let's drop columns with more than 30% missing values\n",
    "\n",
    "listing_df = listing_df.drop(columns = ['first_review','host_acceptance_rate',\n",
    "                                                     'last_review','license','monthly_price','neighbourhood',\n",
    "                                                     'reviews_per_month','security_deposit','square_feet',\n",
    "                                                     'transit','weekly_price'])"
   ]
  },
  {
   "cell_type": "markdown",
   "metadata": {},
   "source": [
    "## Data Cleaning"
   ]
  },
  {
   "cell_type": "markdown",
   "metadata": {},
   "source": [
    "### Numerical functions"
   ]
  },
  {
   "cell_type": "code",
   "execution_count": 105,
   "metadata": {},
   "outputs": [],
   "source": [
    "# defining fucntions for cleaning numerical values\n",
    "\n",
    "# Function for converting string to datetime\n",
    "import datetime\n",
    "def str_to_date(x):\n",
    "    '''function for converting string to datetime'''\n",
    "    x = datetime.datetime.strptime(x, \"%Y-%m-%d\").date()\n",
    "    return x\n",
    "\n",
    "# Function for filling missing values with mean - this will work on low 10% numerical missing values\n",
    "def fill_mode(x):\n",
    "    '''Function for filling missing values with mean'''\n",
    "    x  = x.fillna(x.mode())\n",
    "    return x\n",
    "    \n",
    "# Let's re-use our financial_to_float function from data exploration step\n",
    "def financial_to_float(x):\n",
    "    '''function for converting text values with $ into float variables'''\n",
    "    x = x.replace(\",\", \"\")\n",
    "    return float(x.strip('$'))\n"
   ]
  },
  {
   "cell_type": "markdown",
   "metadata": {},
   "source": [
    "### Cleaning categorical variables"
   ]
  },
  {
   "cell_type": "code",
   "execution_count": 106,
   "metadata": {},
   "outputs": [],
   "source": [
    "# defining fucntions for cleaning categorical values\n",
    "\n",
    "# Here we will replace missing categorical variables with the most frequent value - mode \n",
    "def impute_nan_most_frequent_category(DataFrame,ColName):\n",
    "    # .mode()[0] - gives first category name\n",
    "     most_frequent_category=DataFrame[ColName].mode()[0]\n",
    "    \n",
    "    # replace nan values with most occured category\n",
    "     DataFrame[ColName + \"_Imputed\"] = DataFrame[ColName]\n",
    "     DataFrame[ColName + \"_Imputed\"].fillna(most_frequent_category,inplace=True)"
   ]
  },
  {
   "cell_type": "markdown",
   "metadata": {},
   "source": [
    "### Assembling main function"
   ]
  },
  {
   "cell_type": "code",
   "execution_count": 107,
   "metadata": {},
   "outputs": [],
   "source": [
    "# defining main cleaning function\n",
    "\n",
    "financials = ['price_x','cleaning_fee','extra_people']\n",
    "numerics = [['bathrooms','beds','cleaning_fee','review_scores_rating','review_scores_location','extra_people']]\n",
    "categorical_varaibles = ['host_response_time','host_is_superhost','host_identity_verified','property_type']\n",
    "\n",
    "def clean_data (listing_df,calendar_df):\n",
    "    '''\n",
    "    INPUT\n",
    "    listings_df - dataframe containing listings data\n",
    "    calendar_df - dataframe with availability and prices\n",
    "    \n",
    "    OUTPUT \n",
    "    clean data\n",
    "    '''\n",
    "    # merging listings and calendar at this step\n",
    "    listing_df = listing_df.rename(columns={\"id\": \"listing_id\"})\n",
    "    full_df = pd.merge(calendar_df,listing_df, on = 'listing_id')\n",
    "    \n",
    "    # subsetting only rows with price from calendar - price on available dates\n",
    "    full_df = full_df[pd.notnull(full_df[\"price_x\"])]\n",
    "    \n",
    "    # converting last_scraped into datetime object\n",
    "    full_df['last_scraped'] = full_df['last_scraped'].apply(str_to_date)\n",
    "    \n",
    "    # we fill nan for host_since with '2016-01-04' - the scrape date\n",
    "    full_df['host_since'] = full_df['host_since'].fillna(str('2016-01-04'))\n",
    "    full_df['host_since'] = full_df['host_since'].astype(str).apply(str_to_date)\n",
    "    full_df['host_since_year'] = pd.DatetimeIndex(full_df['host_since']).year\n",
    "    full_df['host_since_year'] = full_df['host_since_year'].astype(int)\n",
    "    \n",
    "    # formatting financial values\n",
    "    for i in financials:\n",
    "        full_df[i] = full_df[i].fillna('$0').apply(financial_to_float)\n",
    "        \n",
    "    # Imputing low 10% of missing numerics with mode values\n",
    "    for i in numerics:\n",
    "        full_df[i] = full_df[i].apply(fill_mode, axis = 0)\n",
    "    \n",
    "    # Imputing low 10% of missing categorical with mode values\n",
    "    for i in categorical_varaibles:\n",
    "        impute_nan_most_frequent_category(full_df,i)\n",
    "    \n",
    "    return full_df"
   ]
  },
  {
   "cell_type": "code",
   "execution_count": 108,
   "metadata": {},
   "outputs": [],
   "source": [
    "full_df = clean_data (listing_df,calendar_df)"
   ]
  },
  {
   "cell_type": "code",
   "execution_count": 109,
   "metadata": {},
   "outputs": [
    {
     "data": {
      "text/html": [
       "<div>\n",
       "<style scoped>\n",
       "    .dataframe tbody tr th:only-of-type {\n",
       "        vertical-align: middle;\n",
       "    }\n",
       "\n",
       "    .dataframe tbody tr th {\n",
       "        vertical-align: top;\n",
       "    }\n",
       "\n",
       "    .dataframe thead th {\n",
       "        text-align: right;\n",
       "    }\n",
       "</style>\n",
       "<table border=\"1\" class=\"dataframe\">\n",
       "  <thead>\n",
       "    <tr style=\"text-align: right;\">\n",
       "      <th></th>\n",
       "      <th>bathrooms</th>\n",
       "      <th>beds</th>\n",
       "      <th>host_response_time</th>\n",
       "      <th>host_is_superhost</th>\n",
       "    </tr>\n",
       "  </thead>\n",
       "  <tbody>\n",
       "    <tr>\n",
       "      <th>0</th>\n",
       "      <td>1.0</td>\n",
       "      <td>1.0</td>\n",
       "      <td>within a few hours</td>\n",
       "      <td>f</td>\n",
       "    </tr>\n",
       "    <tr>\n",
       "      <th>1</th>\n",
       "      <td>1.0</td>\n",
       "      <td>1.0</td>\n",
       "      <td>within a few hours</td>\n",
       "      <td>f</td>\n",
       "    </tr>\n",
       "    <tr>\n",
       "      <th>9</th>\n",
       "      <td>1.0</td>\n",
       "      <td>1.0</td>\n",
       "      <td>within a few hours</td>\n",
       "      <td>f</td>\n",
       "    </tr>\n",
       "    <tr>\n",
       "      <th>10</th>\n",
       "      <td>1.0</td>\n",
       "      <td>1.0</td>\n",
       "      <td>within a few hours</td>\n",
       "      <td>f</td>\n",
       "    </tr>\n",
       "    <tr>\n",
       "      <th>14</th>\n",
       "      <td>1.0</td>\n",
       "      <td>1.0</td>\n",
       "      <td>within a few hours</td>\n",
       "      <td>f</td>\n",
       "    </tr>\n",
       "    <tr>\n",
       "      <th>...</th>\n",
       "      <td>...</td>\n",
       "      <td>...</td>\n",
       "      <td>...</td>\n",
       "      <td>...</td>\n",
       "    </tr>\n",
       "    <tr>\n",
       "      <th>1393207</th>\n",
       "      <td>1.5</td>\n",
       "      <td>1.0</td>\n",
       "      <td>within a day</td>\n",
       "      <td>f</td>\n",
       "    </tr>\n",
       "    <tr>\n",
       "      <th>1393208</th>\n",
       "      <td>1.5</td>\n",
       "      <td>1.0</td>\n",
       "      <td>within a day</td>\n",
       "      <td>f</td>\n",
       "    </tr>\n",
       "    <tr>\n",
       "      <th>1393211</th>\n",
       "      <td>1.5</td>\n",
       "      <td>1.0</td>\n",
       "      <td>within a day</td>\n",
       "      <td>f</td>\n",
       "    </tr>\n",
       "    <tr>\n",
       "      <th>1393212</th>\n",
       "      <td>1.5</td>\n",
       "      <td>1.0</td>\n",
       "      <td>within a day</td>\n",
       "      <td>f</td>\n",
       "    </tr>\n",
       "    <tr>\n",
       "      <th>1393213</th>\n",
       "      <td>1.5</td>\n",
       "      <td>1.0</td>\n",
       "      <td>within a day</td>\n",
       "      <td>f</td>\n",
       "    </tr>\n",
       "  </tbody>\n",
       "</table>\n",
       "<p>934542 rows × 4 columns</p>\n",
       "</div>"
      ],
      "text/plain": [
       "         bathrooms  beds  host_response_time host_is_superhost\n",
       "0              1.0   1.0  within a few hours                 f\n",
       "1              1.0   1.0  within a few hours                 f\n",
       "9              1.0   1.0  within a few hours                 f\n",
       "10             1.0   1.0  within a few hours                 f\n",
       "14             1.0   1.0  within a few hours                 f\n",
       "...            ...   ...                 ...               ...\n",
       "1393207        1.5   1.0        within a day                 f\n",
       "1393208        1.5   1.0        within a day                 f\n",
       "1393211        1.5   1.0        within a day                 f\n",
       "1393212        1.5   1.0        within a day                 f\n",
       "1393213        1.5   1.0        within a day                 f\n",
       "\n",
       "[934542 rows x 4 columns]"
      ]
     },
     "execution_count": 109,
     "metadata": {},
     "output_type": "execute_result"
    }
   ],
   "source": [
    "full_df[['bathrooms','beds','host_response_time','host_is_superhost']]"
   ]
  },
  {
   "cell_type": "code",
   "execution_count": null,
   "metadata": {},
   "outputs": [],
   "source": [
    "listings_clean_df.columns"
   ]
  },
  {
   "cell_type": "code",
   "execution_count": null,
   "metadata": {},
   "outputs": [],
   "source": [
    "listings_clean_df.head(5)"
   ]
  },
  {
   "cell_type": "code",
   "execution_count": null,
   "metadata": {},
   "outputs": [],
   "source": [
    "# Now we can drop last_scraped & \n",
    "listings_clean_df = listings_clean_df.drop(columns = ['last_scraped','host_since'])\n",
    "\n",
    "listings_clean_df.head(5)"
   ]
  },
  {
   "cell_type": "code",
   "execution_count": null,
   "metadata": {},
   "outputs": [],
   "source": [
    "listings_clean_df.info()"
   ]
  },
  {
   "cell_type": "markdown",
   "metadata": {},
   "source": [
    "## Data Cleaning"
   ]
  },
  {
   "cell_type": "markdown",
   "metadata": {},
   "source": [
    "### Cleaning numerical values"
   ]
  },
  {
   "cell_type": "code",
   "execution_count": null,
   "metadata": {},
   "outputs": [],
   "source": [
    "# Now let's see what are the columns that have missing values\n",
    "\n",
    "listings_clean_df.columns[listings_clean_df.isna().any()].tolist()"
   ]
  },
  {
   "cell_type": "code",
   "execution_count": null,
   "metadata": {},
   "outputs": [],
   "source": [
    "listings_clean_df['bathrooms'] = listings_clean_df[['bathrooms']].apply(fill_mean, axis=0)"
   ]
  },
  {
   "cell_type": "code",
   "execution_count": null,
   "metadata": {},
   "outputs": [],
   "source": [
    "listings_clean_df[['bathrooms','beds','cleaning_fee','review_scores_rating','review_scores_location']].head(5)"
   ]
  },
  {
   "cell_type": "markdown",
   "metadata": {},
   "source": [
    "### Cleaning categorical variables"
   ]
  },
  {
   "cell_type": "code",
   "execution_count": null,
   "metadata": {},
   "outputs": [],
   "source": [
    "listings_clean_df = listings_clean_df.drop(['host_location','host_neighbourhood'], axis = 1)"
   ]
  },
  {
   "cell_type": "code",
   "execution_count": null,
   "metadata": {},
   "outputs": [],
   "source": [
    "# Here we will replace missing categorical variables with the most frequent value - mode \n",
    "# Let's create a function for that\n",
    "\n",
    "def impute_nan_most_frequent_category(DataFrame,ColName):\n",
    "    # .mode()[0] - gives first category name\n",
    "     most_frequent_category=DataFrame[ColName].mode()[0]\n",
    "    \n",
    "    # replace nan values with most occured category\n",
    "     DataFrame[ColName + \"_Imputed\"] = DataFrame[ColName]\n",
    "     DataFrame[ColName + \"_Imputed\"].fillna(most_frequent_category,inplace=True)"
   ]
  },
  {
   "cell_type": "code",
   "execution_count": null,
   "metadata": {},
   "outputs": [],
   "source": [
    "categorical_varaibles = ['host_response_time','host_is_superhost','host_identity_verified','property_type']\n",
    "\n",
    "for i in categorical_varaibles:\n",
    "    impute_nan_most_frequent_category(listings_clean_df,i)\n",
    "    "
   ]
  },
  {
   "cell_type": "code",
   "execution_count": null,
   "metadata": {},
   "outputs": [],
   "source": [
    "listings_clean_df.head(5)"
   ]
  },
  {
   "cell_type": "code",
   "execution_count": null,
   "metadata": {},
   "outputs": [],
   "source": [
    "listings_clean_df = listings_clean_df.drop(columns = ['host_response_time','host_is_superhost','host_identity_verified','property_type'])"
   ]
  },
  {
   "cell_type": "code",
   "execution_count": null,
   "metadata": {},
   "outputs": [],
   "source": [
    "listings_clean_df.columns.to_list()"
   ]
  },
  {
   "cell_type": "code",
   "execution_count": null,
   "metadata": {},
   "outputs": [],
   "source": [
    "# Dummy the categorical variables\n",
    "cat_vars = listings_clean_df.select_dtypes(include=['object']).copy().columns\n",
    "\n",
    "for var in  cat_vars:\n",
    "        # for each cat add dummy var, drop original column\n",
    "        listings_clean_df = pd.concat([listings_clean_df.drop(var, axis=1), pd.get_dummies(listings_clean_df[var], prefix=var, prefix_sep='_d', drop_first=True)], axis=1)"
   ]
  },
  {
   "cell_type": "code",
   "execution_count": null,
   "metadata": {},
   "outputs": [],
   "source": [
    "listings_clean_df.head(5)"
   ]
  },
  {
   "cell_type": "code",
   "execution_count": null,
   "metadata": {},
   "outputs": [],
   "source": [
    "print(listings_clean_df.info())\n",
    "\n",
    "listings_clean_df.columns.to_list()"
   ]
  },
  {
   "cell_type": "code",
   "execution_count": null,
   "metadata": {},
   "outputs": [],
   "source": [
    "listings_clean_df.to_csv('listings_clean.csv',index=False)"
   ]
  },
  {
   "cell_type": "code",
   "execution_count": null,
   "metadata": {},
   "outputs": [],
   "source": []
  }
 ],
 "metadata": {
  "kernelspec": {
   "display_name": "Python 3",
   "language": "python",
   "name": "python3"
  },
  "language_info": {
   "codemirror_mode": {
    "name": "ipython",
    "version": 3
   },
   "file_extension": ".py",
   "mimetype": "text/x-python",
   "name": "python",
   "nbconvert_exporter": "python",
   "pygments_lexer": "ipython3",
   "version": "3.7.6"
  }
 },
 "nbformat": 4,
 "nbformat_minor": 4
}
