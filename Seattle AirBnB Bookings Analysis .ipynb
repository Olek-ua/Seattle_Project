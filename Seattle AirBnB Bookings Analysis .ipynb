{
 "cells": [
  {
   "cell_type": "markdown",
   "metadata": {},
   "source": [
    "# Data understanding"
   ]
  },
  {
   "cell_type": "code",
   "execution_count": 1,
   "metadata": {},
   "outputs": [],
   "source": [
    "# Importing standard liabraries for data exploration\n",
    "\n",
    "%matplotlib inline\n",
    "\n",
    "import numpy as np\n",
    "import pandas as pd\n",
    "import matplotlib.pyplot as plt\n",
    "import seaborn as sns"
   ]
  },
  {
   "cell_type": "code",
   "execution_count": 2,
   "metadata": {},
   "outputs": [],
   "source": [
    "# Uploading AirBnB data sets\n",
    "\n",
    "calendar_df = pd.read_csv('calendar.csv')\n",
    "\n",
    "listing_df = pd.read_csv('listings.csv')\n",
    "\n",
    "reviews_df = pd.read_csv('reviews.csv')"
   ]
  },
  {
   "cell_type": "markdown",
   "metadata": {},
   "source": [
    "## Exploring listings data\n",
    "\n",
    "listing_df is going to be our primary source of information in this analysis"
   ]
  },
  {
   "cell_type": "code",
   "execution_count": 3,
   "metadata": {},
   "outputs": [
    {
     "data": {
      "text/html": [
       "<div>\n",
       "<style scoped>\n",
       "    .dataframe tbody tr th:only-of-type {\n",
       "        vertical-align: middle;\n",
       "    }\n",
       "\n",
       "    .dataframe tbody tr th {\n",
       "        vertical-align: top;\n",
       "    }\n",
       "\n",
       "    .dataframe thead th {\n",
       "        text-align: right;\n",
       "    }\n",
       "</style>\n",
       "<table border=\"1\" class=\"dataframe\">\n",
       "  <thead>\n",
       "    <tr style=\"text-align: right;\">\n",
       "      <th></th>\n",
       "      <th>host_response_rate</th>\n",
       "      <th>host_acceptance_rate</th>\n",
       "    </tr>\n",
       "  </thead>\n",
       "  <tbody>\n",
       "    <tr>\n",
       "      <th>0</th>\n",
       "      <td>96%</td>\n",
       "      <td>100%</td>\n",
       "    </tr>\n",
       "    <tr>\n",
       "      <th>1</th>\n",
       "      <td>98%</td>\n",
       "      <td>100%</td>\n",
       "    </tr>\n",
       "    <tr>\n",
       "      <th>2</th>\n",
       "      <td>67%</td>\n",
       "      <td>100%</td>\n",
       "    </tr>\n",
       "    <tr>\n",
       "      <th>3</th>\n",
       "      <td>NaN</td>\n",
       "      <td>NaN</td>\n",
       "    </tr>\n",
       "    <tr>\n",
       "      <th>4</th>\n",
       "      <td>100%</td>\n",
       "      <td>NaN</td>\n",
       "    </tr>\n",
       "  </tbody>\n",
       "</table>\n",
       "</div>"
      ],
      "text/plain": [
       "  host_response_rate host_acceptance_rate\n",
       "0                96%                 100%\n",
       "1                98%                 100%\n",
       "2                67%                 100%\n",
       "3                NaN                  NaN\n",
       "4               100%                  NaN"
      ]
     },
     "execution_count": 3,
     "metadata": {},
     "output_type": "execute_result"
    }
   ],
   "source": [
    "# Some of the numeric variables are presented in string format\n",
    "\n",
    "listing_df[['host_response_rate','host_acceptance_rate']].head(5)"
   ]
  },
  {
   "cell_type": "code",
   "execution_count": 4,
   "metadata": {},
   "outputs": [],
   "source": [
    "# Quick function for converting object % to float\n",
    "\n",
    "def percentage_to_float(x):\n",
    "    '''converting object % to float'''\n",
    "    return float(x.strip('%')) / 100"
   ]
  },
  {
   "cell_type": "code",
   "execution_count": 5,
   "metadata": {},
   "outputs": [],
   "source": [
    "# Converting response_rate and acceptance_rate into numeric values with percentage_to_float function\n",
    "\n",
    "listing_df['host_response_rate'] = listing_df['host_response_rate'].fillna('0%').apply(percentage_to_float)\n",
    "listing_df['host_acceptance_rate'] = listing_df['host_acceptance_rate'].fillna('0%').apply(percentage_to_float)"
   ]
  },
  {
   "cell_type": "code",
   "execution_count": 6,
   "metadata": {},
   "outputs": [
    {
     "data": {
      "text/html": [
       "<div>\n",
       "<style scoped>\n",
       "    .dataframe tbody tr th:only-of-type {\n",
       "        vertical-align: middle;\n",
       "    }\n",
       "\n",
       "    .dataframe tbody tr th {\n",
       "        vertical-align: top;\n",
       "    }\n",
       "\n",
       "    .dataframe thead th {\n",
       "        text-align: right;\n",
       "    }\n",
       "</style>\n",
       "<table border=\"1\" class=\"dataframe\">\n",
       "  <thead>\n",
       "    <tr style=\"text-align: right;\">\n",
       "      <th></th>\n",
       "      <th>price</th>\n",
       "      <th>weekly_price</th>\n",
       "      <th>monthly_price</th>\n",
       "      <th>security_deposit</th>\n",
       "      <th>cleaning_fee</th>\n",
       "    </tr>\n",
       "  </thead>\n",
       "  <tbody>\n",
       "    <tr>\n",
       "      <th>0</th>\n",
       "      <td>$85.00</td>\n",
       "      <td>NaN</td>\n",
       "      <td>NaN</td>\n",
       "      <td>NaN</td>\n",
       "      <td>NaN</td>\n",
       "    </tr>\n",
       "    <tr>\n",
       "      <th>1</th>\n",
       "      <td>$150.00</td>\n",
       "      <td>$1,000.00</td>\n",
       "      <td>$3,000.00</td>\n",
       "      <td>$100.00</td>\n",
       "      <td>$40.00</td>\n",
       "    </tr>\n",
       "    <tr>\n",
       "      <th>2</th>\n",
       "      <td>$975.00</td>\n",
       "      <td>NaN</td>\n",
       "      <td>NaN</td>\n",
       "      <td>$1,000.00</td>\n",
       "      <td>$300.00</td>\n",
       "    </tr>\n",
       "    <tr>\n",
       "      <th>3</th>\n",
       "      <td>$100.00</td>\n",
       "      <td>$650.00</td>\n",
       "      <td>$2,300.00</td>\n",
       "      <td>NaN</td>\n",
       "      <td>NaN</td>\n",
       "    </tr>\n",
       "    <tr>\n",
       "      <th>4</th>\n",
       "      <td>$450.00</td>\n",
       "      <td>NaN</td>\n",
       "      <td>NaN</td>\n",
       "      <td>$700.00</td>\n",
       "      <td>$125.00</td>\n",
       "    </tr>\n",
       "  </tbody>\n",
       "</table>\n",
       "</div>"
      ],
      "text/plain": [
       "     price weekly_price monthly_price security_deposit cleaning_fee\n",
       "0   $85.00          NaN           NaN              NaN          NaN\n",
       "1  $150.00    $1,000.00     $3,000.00          $100.00       $40.00\n",
       "2  $975.00          NaN           NaN        $1,000.00      $300.00\n",
       "3  $100.00      $650.00     $2,300.00              NaN          NaN\n",
       "4  $450.00          NaN           NaN          $700.00      $125.00"
      ]
     },
     "execution_count": 6,
     "metadata": {},
     "output_type": "execute_result"
    }
   ],
   "source": [
    "# Another type of numeric variables presented in sting format \n",
    "\n",
    "listing_df[['price','weekly_price','monthly_price','security_deposit','cleaning_fee']].head(5)"
   ]
  },
  {
   "cell_type": "code",
   "execution_count": 7,
   "metadata": {},
   "outputs": [],
   "source": [
    "# Quick function for converting financials to float\n",
    "\n",
    "def financial_to_float(x):\n",
    "    '''converting strings with commas and dollar sings into float '''\n",
    "    x = x.replace(\",\", \"\")\n",
    "    return float(x.strip('$'))"
   ]
  },
  {
   "cell_type": "code",
   "execution_count": 8,
   "metadata": {},
   "outputs": [],
   "source": [
    "# Converting response_rate and acceptance_rate into numeric values\n",
    "\n",
    "financials = ['price','weekly_price','monthly_price','security_deposit','cleaning_fee']\n",
    "\n",
    "for i in financials:\n",
    "    listing_df[i] = listing_df[i].fillna('$0').apply(financial_to_float)"
   ]
  },
  {
   "cell_type": "markdown",
   "metadata": {},
   "source": [
    "### Exploring categorical and numeric variables of listing_df"
   ]
  },
  {
   "cell_type": "code",
   "execution_count": 9,
   "metadata": {},
   "outputs": [],
   "source": [
    "# Splitting for numeric and categorical variables\n",
    "\n",
    "cat_listing_df = listing_df.select_dtypes(include = ['object'])\n",
    "var_listing_df = listing_df.select_dtypes(include = np.number)"
   ]
  },
  {
   "cell_type": "code",
   "execution_count": 10,
   "metadata": {},
   "outputs": [],
   "source": [
    "# Looking into correlation between numeric variables. Removing irrelevant columns\n",
    "\n",
    "listing_corr_clean = var_listing_df.drop(columns = ['id', 'scrape_id', 'host_id', 'latitude',\n",
    "                                                    'longitude', 'license', 'host_listings_count',\n",
    "                                                    'calculated_host_listings_count', \n",
    "                                                    'host_total_listings_count'])"
   ]
  },
  {
   "cell_type": "code",
   "execution_count": 11,
   "metadata": {},
   "outputs": [
    {
     "data": {
      "text/plain": [
       "<AxesSubplot:>"
      ]
     },
     "execution_count": 11,
     "metadata": {},
     "output_type": "execute_result"
    },
    {
     "data": {
      "image/png": "[encoded data removed]",
      "text/plain": [
       "<Figure size 720x576 with 2 Axes>"
      ]
     },
     "metadata": {
      "needs_background": "light"
     },
     "output_type": "display_data"
    }
   ],
   "source": [
    "# Correlation heatmap\n",
    "\n",
    "plt.subplots(figsize = (10,8))\n",
    "sns.heatmap(listing_corr_clean.corr())"
   ]
  },
  {
   "cell_type": "markdown",
   "metadata": {},
   "source": [
    "### Looking into listings correlations\n",
    "\n",
    "__Host rate__\n",
    "\n",
    "- host_response_rate\n",
    "- host_acceptance_rate\n",
    "\n",
    "__Observation__: interesting that response rate and acceptance rate are highly correlated. Could it be the case that hosts who response prospects are more likely accept their requests?\n",
    "\n",
    "__Size of a property__\n",
    "\n",
    "- accomadates\n",
    "- bathrooms\n",
    "- bedrooms\n",
    "- beds\n",
    "- guests included \n",
    "- square feet\n",
    "\n",
    "__Observation__: potentially we can keep only beds and square feet as these are the least correlated features and can compliment each other.\n",
    "\n",
    "__Availability__\n",
    "\n",
    "- availability_30\n",
    "- availability_60\n",
    "- availability_90\n",
    "- availability_365\n",
    "\n",
    "__Observation__: all 30,60 & 90 days are highly correlated which potentially indicates that popular properties are always booked and less poppular are more likely to be available\n",
    "\n",
    "__Reviews__\n",
    "\n",
    "- review_scores_rating\n",
    "- review_scores_accuracy\n",
    "- review_scores_cleanliness\n",
    "- review_scores_checkin\n",
    "- review_scores_communication\n",
    "- review_scores_location\n",
    "- review_scores_value \n",
    "\n",
    "potentially we can keep: review_scores_rating, review_scores_location and review_per_month as these are less corelated"
   ]
  },
  {
   "cell_type": "markdown",
   "metadata": {},
   "source": [
    "## Stating business questions\n",
    "\n",
    "After initial look into data we would like to answer three follosing questions:\n",
    "\n",
    "- What is the busiest time of the year for Seattle?\n",
    "- What are the most expensive neighbourhoods?\n",
    "- Can we predict the price of a property based on its features?\n",
    "\n",
    "First two questions we will answer in Data Understanding section as they don't require data modelling."
   ]
  },
  {
   "cell_type": "markdown",
   "metadata": {},
   "source": [
    "### What is the busiest time of the year for Seattle?\n",
    "\n",
    "In order to answer our first business question we don't really need to build a sophisticated model but rather we can take a closer look into calendar data."
   ]
  },
  {
   "cell_type": "code",
   "execution_count": 12,
   "metadata": {},
   "outputs": [
    {
     "data": {
      "text/html": [
       "<div>\n",
       "<style scoped>\n",
       "    .dataframe tbody tr th:only-of-type {\n",
       "        vertical-align: middle;\n",
       "    }\n",
       "\n",
       "    .dataframe tbody tr th {\n",
       "        vertical-align: top;\n",
       "    }\n",
       "\n",
       "    .dataframe thead th {\n",
       "        text-align: right;\n",
       "    }\n",
       "</style>\n",
       "<table border=\"1\" class=\"dataframe\">\n",
       "  <thead>\n",
       "    <tr style=\"text-align: right;\">\n",
       "      <th></th>\n",
       "      <th>listing_id</th>\n",
       "      <th>date</th>\n",
       "      <th>available</th>\n",
       "      <th>price</th>\n",
       "      <th>month</th>\n",
       "      <th>year</th>\n",
       "    </tr>\n",
       "  </thead>\n",
       "  <tbody>\n",
       "    <tr>\n",
       "      <th>0</th>\n",
       "      <td>241032</td>\n",
       "      <td>2016-01-04</td>\n",
       "      <td>t</td>\n",
       "      <td>$85.00</td>\n",
       "      <td>1</td>\n",
       "      <td>2016</td>\n",
       "    </tr>\n",
       "    <tr>\n",
       "      <th>1</th>\n",
       "      <td>241032</td>\n",
       "      <td>2016-01-05</td>\n",
       "      <td>t</td>\n",
       "      <td>$85.00</td>\n",
       "      <td>1</td>\n",
       "      <td>2016</td>\n",
       "    </tr>\n",
       "    <tr>\n",
       "      <th>2</th>\n",
       "      <td>241032</td>\n",
       "      <td>2016-01-06</td>\n",
       "      <td>f</td>\n",
       "      <td>NaN</td>\n",
       "      <td>1</td>\n",
       "      <td>2016</td>\n",
       "    </tr>\n",
       "    <tr>\n",
       "      <th>3</th>\n",
       "      <td>241032</td>\n",
       "      <td>2016-01-07</td>\n",
       "      <td>f</td>\n",
       "      <td>NaN</td>\n",
       "      <td>1</td>\n",
       "      <td>2016</td>\n",
       "    </tr>\n",
       "    <tr>\n",
       "      <th>4</th>\n",
       "      <td>241032</td>\n",
       "      <td>2016-01-08</td>\n",
       "      <td>f</td>\n",
       "      <td>NaN</td>\n",
       "      <td>1</td>\n",
       "      <td>2016</td>\n",
       "    </tr>\n",
       "  </tbody>\n",
       "</table>\n",
       "</div>"
      ],
      "text/plain": [
       "   listing_id       date available   price  month  year\n",
       "0      241032 2016-01-04         t  $85.00      1  2016\n",
       "1      241032 2016-01-05         t  $85.00      1  2016\n",
       "2      241032 2016-01-06         f     NaN      1  2016\n",
       "3      241032 2016-01-07         f     NaN      1  2016\n",
       "4      241032 2016-01-08         f     NaN      1  2016"
      ]
     },
     "execution_count": 12,
     "metadata": {},
     "output_type": "execute_result"
    }
   ],
   "source": [
    "# Let's convert dates into month to identtify the busiest time of the year\n",
    "\n",
    "import datetime as dt\n",
    "\n",
    "calendar_df['date'] = pd.to_datetime(calendar_df['date'], format = '%Y-%m-%d')\n",
    "calendar_df['month'] = calendar_df['date'].dt.month\n",
    "calendar_df['year'] = calendar_df['date'].dt.year\n",
    "calendar_df.head(5)"
   ]
  },
  {
   "cell_type": "code",
   "execution_count": 13,
   "metadata": {},
   "outputs": [
    {
     "data": {
      "text/plain": [
       "<seaborn.axisgrid.FacetGrid at 0x7f9298a7cb10>"
      ]
     },
     "execution_count": 13,
     "metadata": {},
     "output_type": "execute_result"
    },
    {
     "data": {
      "image/png": "[encoded data removed]",
      "text/plain": [
       "<Figure size 360x360 with 1 Axes>"
      ]
     },
     "metadata": {
      "needs_background": "light"
     },
     "output_type": "display_data"
    }
   ],
   "source": [
    "# We will focus only on year 2016 since we have only a single full year of data \n",
    "# Below we will look into total number of days per month booked across all properties in the Seatle\n",
    "\n",
    "monthly_booked = calendar_df[(calendar_df['available'] == 'f') & (calendar_df['year'] == 2016)][['listing_id', 'month']].groupby(['month']).count()\n",
    "monthly_booked = monthly_booked.reset_index()\n",
    "monthly_booked.rename(columns={\"listing_id\": \"booked_listings\"}, inplace = True)\n",
    "\n",
    "sns.catplot (x = 'month', y = 'booked_listings', data = monthly_booked , kind = 'bar')"
   ]
  },
  {
   "cell_type": "code",
   "execution_count": 14,
   "metadata": {},
   "outputs": [
    {
     "data": {
      "text/plain": [
       "<seaborn.axisgrid.FacetGrid at 0x7f9298a6b790>"
      ]
     },
     "execution_count": 14,
     "metadata": {},
     "output_type": "execute_result"
    },
    {
     "data": {
      "image/png": "[encoded data removed]",
      "text/plain": [
       "<Figure size 360x360 with 1 Axes>"
      ]
     },
     "metadata": {
      "needs_background": "light"
     },
     "output_type": "display_data"
    }
   ],
   "source": [
    "# Let's look into percentage of booked properties by month\n",
    "# we can simply do it by dividing total \n",
    "\n",
    "capacity = calendar_df[calendar_df['year'] == 2016][['listing_id','month']].groupby(['month']).count()\n",
    "capacity = capacity.reset_index()\n",
    "capacity.rename(columns={\"listing_id\": \"total_listings\"}, inplace = True)\n",
    "capacity = capacity.merge(monthly_booked, left_on='month', right_on='month')\n",
    "capacity['used_capacity_%'] = capacity['booked_listings'] / capacity['total_listings']\n",
    "\n",
    "sns.catplot (x = 'month', y = 'used_capacity_%', data = capacity , kind = 'bar')"
   ]
  },
  {
   "cell_type": "markdown",
   "metadata": {},
   "source": [
    "Clearly January, July and August are the busiest months for Seattle as there are less places to book"
   ]
  },
  {
   "cell_type": "markdown",
   "metadata": {},
   "source": [
    "### What are the most expensive neighbourhoods ?\n",
    "\n",
    "As with busiest time question we don't really need to build a model we will simply do minor data manipulations"
   ]
  },
  {
   "cell_type": "code",
   "execution_count": 15,
   "metadata": {},
   "outputs": [
    {
     "data": {
      "image/png": "[encoded data removed]",
      "text/plain": [
       "<Figure size 360x360 with 1 Axes>"
      ]
     },
     "metadata": {
      "needs_background": "light"
     },
     "output_type": "display_data"
    }
   ],
   "source": [
    "# Let's focus on neighbourhood_cleansed as this is neigbourhood column shows the most detailed description, \n",
    "# it also does not have any missing values.\n",
    "\n",
    "avg_neighbourhood_price = listing_df[['neighbourhood_cleansed','price']].groupby('neighbourhood_cleansed').mean().reset_index()\n",
    "\n",
    "# Let's take a look at top 20 most expensive neighbourhoods\n",
    "\n",
    "top_20_neighbourhoods = avg_neighbourhood_price.nlargest(20, 'price', keep='first')\n",
    "top_20_neighbourhoods.rename(columns={\"price\": \"avg_price\"}, inplace = True)\n",
    "\n",
    "sns.catplot (x = 'neighbourhood_cleansed', y = 'avg_price', data = top_20_neighbourhoods , kind = 'bar')\n",
    "plt.xticks(rotation=90);"
   ]
  },
  {
   "cell_type": "code",
   "execution_count": 16,
   "metadata": {},
   "outputs": [
    {
     "data": {
      "image/png": "[encoded data removed]",
      "text/plain": [
       "<Figure size 360x360 with 1 Axes>"
      ]
     },
     "metadata": {
      "needs_background": "light"
     },
     "output_type": "display_data"
    }
   ],
   "source": [
    "# Let's also look into neighbourhoods_grouped, it also does not have any missing values.\n",
    "\n",
    "avg_neighbourhood_price = listing_df[['neighbourhood_group_cleansed','price']].groupby('neighbourhood_group_cleansed').mean().reset_index()\n",
    "\n",
    "# Let's take a look at top 20 most expensive neighbourhoods_grouped\n",
    "\n",
    "top_20_neighbourhoods = avg_neighbourhood_price.nlargest(20, 'price', keep='first')\n",
    "top_20_neighbourhoods.rename(columns={\"price\": \"avg_price\"}, inplace = True)\n",
    "\n",
    "sns.catplot (x = 'neighbourhood_group_cleansed', y = 'avg_price', data = top_20_neighbourhoods , kind = 'bar')\n",
    "plt.xticks(rotation=90);"
   ]
  },
  {
   "cell_type": "markdown",
   "metadata": {},
   "source": [
    "As we could see the most expensive neighbourhood groups are Magnolia, Queen Anne, Downtown and West Seattle.\n",
    "\n",
    "For further analysis we will primarily focus on neighbourhood groups rather individual neighbourhoods as this provides less noise for our model."
   ]
  },
  {
   "cell_type": "markdown",
   "metadata": {},
   "source": [
    "## Looking into missing values"
   ]
  },
  {
   "cell_type": "code",
   "execution_count": 17,
   "metadata": {},
   "outputs": [],
   "source": [
    "# calculating % of missing values\n",
    "\n",
    "missing_listings_df = listing_df.isnull().mean()*100\n",
    "\n",
    "# filtering results for columns with missing values\n",
    "\n",
    "columns_with_missing_listings = missing_listings_df[missing_listings_df>0]"
   ]
  },
  {
   "cell_type": "code",
   "execution_count": 18,
   "metadata": {},
   "outputs": [
    {
     "data": {
      "image/png": "[encoded data removed]",
      "text/plain": [
       "<Figure size 720x576 with 1 Axes>"
      ]
     },
     "metadata": {
      "needs_background": "light"
     },
     "output_type": "display_data"
    }
   ],
   "source": [
    "# plotting results\n",
    "\n",
    "plt.subplots(figsize=(10,8))\n",
    "columns_with_missing_listings.plot.bar(title = 'Missing_values_%');"
   ]
  },
  {
   "cell_type": "markdown",
   "metadata": {},
   "source": [
    "Luckily for us there are few values missing that we've shorlisted for main question of price prediction:\n",
    "\n",
    "- square_feet - with at almost 100% missing\n",
    "\n",
    "- review_scores_rating, review_scores_location, reviews_per_month with almost 20% missing.\n",
    "\n",
    "Reviews missing are likely to be new properties with few ranking - these could be candidates for imputing."
   ]
  },
  {
   "cell_type": "markdown",
   "metadata": {},
   "source": [
    "# Data preparation - Seatle AirBnB\n"
   ]
  },
  {
   "cell_type": "code",
   "execution_count": 19,
   "metadata": {},
   "outputs": [],
   "source": [
    "# Let's re-upload AirBnB data this will help us align various data preparation processes in a single stream\n",
    "\n",
    "calendar_df = pd.read_csv('calendar.csv')\n",
    "\n",
    "listing_df = pd.read_csv('listings.csv')\n",
    "\n",
    "reviews_df = pd.read_csv('reviews.csv')"
   ]
  },
  {
   "cell_type": "markdown",
   "metadata": {},
   "source": [
    "As we've seen in the __Data understanding__ step: \n",
    "\n",
    "- Some of the attributes from Seattle dataset have missing data\n",
    "    - Luckily for us only a small proportion of those attributes we are going to use in the model have around 10% of missing values. The rest of data is complete.\n",
    "- We've identified highly correlated attributes from the same categories\n",
    "    - Those attributes will be excluded from the training model\n",
    "    \n",
    "It certainly does not make sense to use all categorical and numerical values for our data model. Hence we will focus on the most reasonable predictors. For instance for numerical variables we will exclude all highly  correlated attributes, this will protect us from multicollinearity issues in the future. (See Data Understanding - correlation heatmap)\n",
    "\n",
    "As for categorical, we will have to apply a bit of common sense and exclude such as: state, city, picture_url, name etc."
   ]
  },
  {
   "cell_type": "markdown",
   "metadata": {},
   "source": [
    "## Removing less usefull attributes"
   ]
  },
  {
   "cell_type": "code",
   "execution_count": 20,
   "metadata": {},
   "outputs": [],
   "source": [
    "# Removing all rows from listing_df that don't have price records\n",
    "\n",
    "listing_df = listing_df.dropna(subset=['price'],axis=0)"
   ]
  },
  {
   "cell_type": "code",
   "execution_count": 21,
   "metadata": {},
   "outputs": [],
   "source": [
    "# Cleaning categorical variables. \n",
    "\n",
    "listing_df = listing_df.drop(columns = ['amenities', 'calendar_updated', 'cancellation_policy', 'city',\n",
    "                                        'space', 'neighborhood_overview', 'notes', 'medium_url',\n",
    "                                        'xl_picture_url', 'host_url', 'is_location_exact', 'country',\n",
    "                                        'country_code', 'description', 'experiences_offered', 'calendar_last_scraped',\n",
    "                                        'host_has_profile_pic','host_id','host_name','host_picture_url', 'host_about', \n",
    "                                        'host_verifications','host_thumbnail_url','listing_url','market','name',\n",
    "                                        'neighbourhood_cleansed', 'jurisdiction_names', 'require_guest_profile_picture', \n",
    "                                        'smart_location', 'picture_url', 'scrape_id', 'state', 'street', 'summary', \n",
    "                                        'thumbnail_url', 'zipcode', 'host_location', 'host_neighbourhood', \n",
    "                                        'host_identity_verified', 'requires_license', 'instant_bookable', \n",
    "                                        'require_guest_phone_verification','license'])"
   ]
  },
  {
   "cell_type": "code",
   "execution_count": 22,
   "metadata": {},
   "outputs": [],
   "source": [
    "# Cleaning nuemrical variables. \n",
    "\n",
    "listing_df = listing_df.drop(columns = ['last_scraped', 'host_response_rate', 'accommodates', 'bedrooms',\n",
    "                                        'host_listings_count', 'host_total_listings_count',\n",
    "                                        'guests_included', 'availability_60','availability_90', 'availability_365',\n",
    "                                        'review_scores_accuracy', 'review_scores_cleanliness', 'review_scores_checkin',\n",
    "                                        'review_scores_communication', 'review_scores_value', 'longitude', 'latitude',\n",
    "                                        'calculated_host_listings_count'])"
   ]
  },
  {
   "cell_type": "code",
   "execution_count": 23,
   "metadata": {},
   "outputs": [],
   "source": [
    "# Let's alos drop columns with high % of missing values\n",
    "\n",
    "listing_df = listing_df.drop(columns = ['first_review', 'host_acceptance_rate', 'last_review', 'monthly_price',\n",
    "                                        'neighbourhood', 'reviews_per_month', 'security_deposit', 'square_feet',\n",
    "                                        'transit', 'weekly_price'])"
   ]
  },
  {
   "cell_type": "markdown",
   "metadata": {},
   "source": [
    "## Data Cleaning"
   ]
  },
  {
   "cell_type": "markdown",
   "metadata": {},
   "source": [
    "### Numerical functions"
   ]
  },
  {
   "cell_type": "code",
   "execution_count": 24,
   "metadata": {},
   "outputs": [],
   "source": [
    "# Defining fucntions for cleaning numerical values\n",
    "\n",
    "# Function for converting string to datetime\n",
    "import datetime\n",
    "def str_to_date(x):\n",
    "    '''function for converting string to datetime'''\n",
    "    x = datetime.datetime.strptime(x, \"%Y-%m-%d\").date()\n",
    "    return x\n",
    "\n",
    "# Function for filling missing values with mean \n",
    "def fill_mean(x):\n",
    "    '''Function for filling missing values with mean'''\n",
    "    x  = x.fillna(x.mean())\n",
    "    return x\n",
    "    \n",
    "# Let's re-use our financial_to_float function from data exploration step\n",
    "def financial_to_float(x):\n",
    "    '''function for converting text values with $ into float variables'''\n",
    "    x = x.replace(\",\", \"\")\n",
    "    return float(x.strip('$'))\n"
   ]
  },
  {
   "cell_type": "markdown",
   "metadata": {},
   "source": [
    "### Categorical functions"
   ]
  },
  {
   "cell_type": "code",
   "execution_count": 25,
   "metadata": {},
   "outputs": [],
   "source": [
    "# Defining fucntions for cleaning categorical values\n",
    "\n",
    "# Here we will replace missing categorical variables with the most frequent value - mode \n",
    "def impute_nan_most_frequent_category(DataFrame,ColName):\n",
    "    # .mode()[0] - gives first category name\n",
    "     most_frequent_category=DataFrame[ColName].mode()[0]\n",
    "    \n",
    "    # replace nan values with most occured category\n",
    "     DataFrame[ColName + \"_Imputed\"] = DataFrame[ColName]\n",
    "     DataFrame[ColName + \"_Imputed\"].fillna(most_frequent_category,inplace=True)"
   ]
  },
  {
   "cell_type": "markdown",
   "metadata": {},
   "source": [
    "### Assembling main function"
   ]
  },
  {
   "cell_type": "code",
   "execution_count": 26,
   "metadata": {},
   "outputs": [],
   "source": [
    "# Specifying financials, numerics and categorrical_variable - attributes that we are going to clean \n",
    "# in the main function\n",
    "\n",
    "financials = ['price_x', 'cleaning_fee', 'extra_people']\n",
    "\n",
    "numerics = [['bathrooms', 'beds', 'cleaning_fee', 'review_scores_rating', 'review_scores_location', 'extra_people']]\n",
    "\n",
    "categorical_varaibles = ['host_response_time', 'host_is_superhost', 'property_type', 'host_response_time',\n",
    "                         'host_is_superhost', 'neighbourhood_group_cleansed', 'property_type', 'room_type',\n",
    "                         'bed_type']\n",
    "\n",
    "\n",
    "# Defining main cleaning function\n",
    "\n",
    "def clean_data (listing_df,calendar_df):\n",
    "    '''\n",
    "    INPUT\n",
    "    listings_df - dataframe containing listings data\n",
    "    calendar_df - dataframe with availability and prices\n",
    "    \n",
    "    OUTPUT\n",
    "    full_df - table that consits both relevant listing and calendar columns:\n",
    "    1. string containing dates are converted into integers\n",
    "    2. string containing $ singns converted into float\n",
    "    2. relevant missing values are imputed with mean or mode.\n",
    "    3. categorical variable are one-hot encoded\n",
    "    '''\n",
    "    # merging listings and calendar at this step\n",
    "    listing_df = listing_df.rename(columns={\"id\": \"listing_id\"})\n",
    "    full_df = pd.merge(calendar_df, listing_df, on = 'listing_id')\n",
    "    \n",
    "    # subsetting only rows with price from calendar - price on available dates\n",
    "    full_df = full_df[pd.notnull(full_df[\"price_x\"])]\n",
    "    \n",
    "    # we fill nan for host_since with '2016-01-04' - the scrape date\n",
    "    full_df['host_since'] = full_df['host_since'].fillna(str('2016-01-04'))\n",
    "    \n",
    "    # cleaning date columns\n",
    "    full_df['host_since'] = full_df['host_since'].astype(str).apply(str_to_date)\n",
    "    full_df['host_since_year'] = pd.DatetimeIndex(full_df['host_since']).year\n",
    "    full_df['host_since_year'] = full_df['host_since_year'].astype(int)\n",
    "    full_df['date'] = full_df['date'].astype(str).apply(str_to_date)\n",
    "    full_df['month'] = pd.DatetimeIndex(full_df['date']).month\n",
    "    full_df['month'] = full_df['month'].astype(int)\n",
    "    \n",
    "    # formatting financial values\n",
    "    for i in financials:\n",
    "        full_df[i] = full_df[i].fillna('$0').apply(financial_to_float)\n",
    "        \n",
    "    # Imputing low 10% of missing numerics with mode values\n",
    "    for i in numerics:\n",
    "        full_df[i] = full_df[i].apply(fill_mean, axis = 0)\n",
    "    \n",
    "    # Imputing low 10% of missing categorical with mode values\n",
    "    for i in categorical_varaibles:\n",
    "        impute_nan_most_frequent_category(full_df,i)\n",
    "        \n",
    "    # dropping less useful numeric columns \n",
    "    full_df = full_df.drop(columns = ['host_since', 'date', 'price_y', 'listing_id'])\n",
    "    \n",
    "    # dropping less used cat columns \n",
    "    full_df = full_df.drop(columns = categorical_varaibles)\n",
    "    full_df = full_df.drop(columns = ['available', 'has_availability'])\n",
    "    \n",
    "    # One-hot encoding for categorical variables\n",
    "    cat_vars = full_df.select_dtypes(include=['object']).copy().columns\n",
    "\n",
    "    for var in  cat_vars:\n",
    "        # for each cat add dummy var, drop original column\n",
    "        full_df = pd.concat([full_df.drop(var, axis=1), \n",
    "                                       pd.get_dummies(full_df[var], \n",
    "                                       prefix=var, prefix_sep='_d', drop_first=True)], axis=1)\n",
    "\n",
    "    \n",
    "    return full_df"
   ]
  },
  {
   "cell_type": "code",
   "execution_count": 27,
   "metadata": {},
   "outputs": [],
   "source": [
    "# Applying clean data fuction to listing and calendar data frames\n",
    "\n",
    "full_df = clean_data(listing_df, calendar_df)"
   ]
  },
  {
   "cell_type": "markdown",
   "metadata": {},
   "source": [
    "# Data Modelling"
   ]
  },
  {
   "cell_type": "code",
   "execution_count": 28,
   "metadata": {},
   "outputs": [],
   "source": [
    "# importing sklearn librbaries for data modelling\n",
    "\n",
    "from sklearn.linear_model import LinearRegression\n",
    "from sklearn.model_selection import train_test_split\n",
    "from sklearn.metrics import r2_score, mean_squared_error"
   ]
  },
  {
   "cell_type": "code",
   "execution_count": 29,
   "metadata": {},
   "outputs": [],
   "source": [
    "# importing pre-processed data - look in 'Data Preparation' for detailed steps\n",
    "\n",
    "clean_listings_df = full_df"
   ]
  },
  {
   "cell_type": "markdown",
   "metadata": {},
   "source": [
    "## Feature Scaling "
   ]
  },
  {
   "cell_type": "code",
   "execution_count": 30,
   "metadata": {},
   "outputs": [],
   "source": [
    "# At this step we will normalise and standartise our data by doing it within single pipeline\n",
    "\n",
    "from sklearn.preprocessing import StandardScaler\n",
    "from sklearn.preprocessing import MinMaxScaler\n",
    "from sklearn.pipeline import Pipeline\n",
    "\n",
    "num_pipeline = Pipeline([\n",
    "    ('std_scaler', StandardScaler()),\n",
    "    ('norm_scaler', MinMaxScaler()),   \n",
    "    ])"
   ]
  },
  {
   "cell_type": "code",
   "execution_count": 31,
   "metadata": {},
   "outputs": [],
   "source": [
    "# We receive our output in array\n",
    "\n",
    "clean_listings_tr = num_pipeline.fit_transform(clean_listings_df)\n",
    "\n",
    "# Building new df with tranformed data\n",
    "\n",
    "clean_listings_tr = pd.DataFrame(clean_listings_tr, columns = clean_listings_df.columns,\n",
    "                                  index = clean_listings_df.index) "
   ]
  },
  {
   "cell_type": "markdown",
   "metadata": {},
   "source": [
    "## Train / test split"
   ]
  },
  {
   "cell_type": "code",
   "execution_count": 32,
   "metadata": {},
   "outputs": [],
   "source": [
    "# Split into explanatory and response variables\n",
    "\n",
    "X = clean_listings_df.drop(['price_x'], axis = 1)\n",
    "y = clean_listings_df['price_x'].copy()\n",
    "\n",
    "# Split into train and test\n",
    "\n",
    "X_train, X_test, y_train, y_test = train_test_split(X, y, test_size = .30, random_state=42) "
   ]
  },
  {
   "cell_type": "markdown",
   "metadata": {},
   "source": [
    "## Linear Regression"
   ]
  },
  {
   "cell_type": "markdown",
   "metadata": {},
   "source": [
    "For predicting price of a property we will use regression algorithms since we are working with continous dependent variable. "
   ]
  },
  {
   "cell_type": "code",
   "execution_count": 33,
   "metadata": {},
   "outputs": [
    {
     "data": {
      "text/plain": [
       "LinearRegression(normalize=True)"
      ]
     },
     "execution_count": 33,
     "metadata": {},
     "output_type": "execute_result"
    }
   ],
   "source": [
    "# Testing on Linear regression\n",
    "\n",
    "lm_model = LinearRegression(normalize=True) # Instantiate\n",
    "lm_model.fit(X_train, y_train) #Fit"
   ]
  },
  {
   "cell_type": "code",
   "execution_count": 34,
   "metadata": {},
   "outputs": [
    {
     "data": {
      "text/plain": [
       "'The r-squared score for your model was 0.5926181831561046 on 280363 values.'"
      ]
     },
     "execution_count": 34,
     "metadata": {},
     "output_type": "execute_result"
    }
   ],
   "source": [
    "# Predict and score the model\n",
    "\n",
    "y_test_preds = lm_model.predict(X_test)\n",
    "\n",
    "\"The r-squared score for your model was {} on {} values.\".format(r2_score(y_test, y_test_preds), len(y_test))"
   ]
  },
  {
   "cell_type": "markdown",
   "metadata": {},
   "source": [
    "As we can see Linear Regresion is underfitting our data since we achieved only 0.59 for R^2. This is likely to happen due to non-linear connections between attributes.\n",
    "\n",
    "Let's use some more serious model for such cases."
   ]
  },
  {
   "cell_type": "markdown",
   "metadata": {},
   "source": [
    "## Random Forest"
   ]
  },
  {
   "cell_type": "code",
   "execution_count": 35,
   "metadata": {},
   "outputs": [],
   "source": [
    "# Let's use Random Forest to find more comlex non-linear relationships in data\n",
    "\n",
    "from sklearn.ensemble import RandomForestRegressor\n",
    "from sklearn.model_selection import GridSearchCV"
   ]
  },
  {
   "cell_type": "code",
   "execution_count": 36,
   "metadata": {},
   "outputs": [
    {
     "data": {
      "text/plain": [
       "GridSearchCV(cv=5, estimator=RandomForestRegressor(),\n",
       "             param_grid=[{'max_features': [2, 4, 6, 8],\n",
       "                          'n_estimators': [3, 10, 30]},\n",
       "                         {'bootstrap': [False], 'max_features': [2, 3, 4],\n",
       "                          'n_estimators': [3, 10]}],\n",
       "             return_train_score=True, scoring='neg_mean_squared_error')"
      ]
     },
     "execution_count": 36,
     "metadata": {},
     "output_type": "execute_result"
    }
   ],
   "source": [
    "# Grid search feature will help us to find the right combination of max_features and n_estimators for our model\n",
    "\n",
    "param_grid = [\n",
    "    {'n_estimators':[3,10,30],'max_features':[2,4,6,8]},\n",
    "    {'bootstrap':[False],'n_estimators':[3,10], 'max_features':[2,3,4]},\n",
    "    ]\n",
    "\n",
    "forest_reg = RandomForestRegressor()\n",
    "\n",
    "# We also specify number of cross validations\n",
    "\n",
    "grid_search = GridSearchCV(forest_reg, param_grid, cv = 5,\n",
    "                           scoring = 'neg_mean_squared_error',\n",
    "                           return_train_score = True)\n",
    "\n",
    "grid_search.fit(X_train, y_train)"
   ]
  },
  {
   "cell_type": "code",
   "execution_count": 37,
   "metadata": {},
   "outputs": [
    {
     "name": "stdout",
     "output_type": "stream",
     "text": [
      "14.87374627685103 {'max_features': 2, 'n_estimators': 3}\n",
      "14.659853811033017 {'max_features': 2, 'n_estimators': 10}\n",
      "14.6341585222875 {'max_features': 2, 'n_estimators': 30}\n",
      "14.777197007842984 {'max_features': 4, 'n_estimators': 3}\n",
      "14.653852366710582 {'max_features': 4, 'n_estimators': 10}\n",
      "14.614835063887893 {'max_features': 4, 'n_estimators': 30}\n",
      "14.824822849876988 {'max_features': 6, 'n_estimators': 3}\n",
      "14.653355273211632 {'max_features': 6, 'n_estimators': 10}\n",
      "14.617100663465946 {'max_features': 6, 'n_estimators': 30}\n",
      "14.761671585129593 {'max_features': 8, 'n_estimators': 3}\n",
      "14.649999152349055 {'max_features': 8, 'n_estimators': 10}\n",
      "14.611514784045527 {'max_features': 8, 'n_estimators': 30}\n",
      "14.646462791565614 {'bootstrap': False, 'max_features': 2, 'n_estimators': 3}\n",
      "14.611524459965722 {'bootstrap': False, 'max_features': 2, 'n_estimators': 10}\n",
      "14.630909604448687 {'bootstrap': False, 'max_features': 3, 'n_estimators': 3}\n",
      "14.611481380697086 {'bootstrap': False, 'max_features': 3, 'n_estimators': 10}\n",
      "14.618417451366781 {'bootstrap': False, 'max_features': 4, 'n_estimators': 3}\n",
      "14.609301968209966 {'bootstrap': False, 'max_features': 4, 'n_estimators': 10}\n"
     ]
    }
   ],
   "source": [
    "# If we continue to search with higher number of cross-validation (cv), the score may improve.\n",
    "# We can also get the best estimator directly \n",
    "\n",
    "grid_search.best_estimator_\n",
    "\n",
    "# If GridSearchCV is initialized with refit=True (which is the default), \n",
    "# then once it finds the best estimator using cross-validation, it retrains it on the whole training set.\n",
    "\n",
    "# Evaluations scores are also available\n",
    "\n",
    "cvres = grid_search.cv_results_\n",
    "\n",
    "for mean_score, params in zip (cvres[\"mean_test_score\"], cvres[\"params\"]):\n",
    "    print(np.sqrt(-mean_score), params)"
   ]
  },
  {
   "cell_type": "code",
   "execution_count": 38,
   "metadata": {},
   "outputs": [
    {
     "data": {
      "text/plain": [
       "'The r-squared score for your model was 0.980508347396863 on 280363 values.'"
      ]
     },
     "execution_count": 38,
     "metadata": {},
     "output_type": "execute_result"
    }
   ],
   "source": [
    "# Predict and score the model\n",
    "\n",
    "y_test_preds = grid_search.predict(X_test)\n",
    "\n",
    "\"The r-squared score for your model was {} on {} values.\".format(r2_score(y_test, y_test_preds), len(y_test))"
   ]
  },
  {
   "cell_type": "code",
   "execution_count": 39,
   "metadata": {},
   "outputs": [
    {
     "data": {
      "text/plain": [
       "RandomForestRegressor(bootstrap=False, max_features=4, n_estimators=10)"
      ]
     },
     "execution_count": 39,
     "metadata": {},
     "output_type": "execute_result"
    }
   ],
   "source": [
    "# So far this is the best model we could produce \n",
    "\n",
    "grid_search.best_estimator_\n",
    "\n",
    "# bootstrap=False, max_features=4, n_estimators=10"
   ]
  },
  {
   "cell_type": "markdown",
   "metadata": {},
   "source": [
    "Random Forest clearly wins Linear regression with high R^2 on test data and relatively low root mean squared error.\n",
    "\n",
    "Now that we know Random Forest is more appropriate model for predicting property prices let's look into the importance of predicting attributes"
   ]
  },
  {
   "cell_type": "code",
   "execution_count": 55,
   "metadata": {},
   "outputs": [],
   "source": [
    "# Let's analyse importance of predicting attributes\n",
    "\n",
    "headers = [\"feature\", \"score\"]\n",
    "\n",
    "feature_importances = grid_search.best_estimator_.feature_importances_\n",
    "\n",
    "attributes = X_train.columns\n",
    "\n",
    "values = sorted(zip(attributes, feature_importances), reverse = True)\n",
    "\n",
    "rdm_forest_feature_importance = pd.DataFrame(values, columns = headers).sort_values(by=['score'], ascending=False)"
   ]
  },
  {
   "cell_type": "code",
   "execution_count": 62,
   "metadata": {},
   "outputs": [
    {
     "data": {
      "image/png": "[encoded data removed]",
      "text/plain": [
       "<Figure size 576x720 with 1 Axes>"
      ]
     },
     "metadata": {
      "needs_background": "light"
     },
     "output_type": "display_data"
    }
   ],
   "source": [
    "# plot feature importances for top 15 features\n",
    "\n",
    "features = rdm_forest_feature_importance['feature'][:20]\n",
    "scores = rdm_forest_feature_importance['score'][:20]\n",
    "y_pos = np.arange(len(features))\n",
    "\n",
    " \n",
    "plt.figure(figsize=(8,10))\n",
    "plt.bar(y_pos, scores, align='edge', alpha=0.7)\n",
    "plt.xticks(y_pos, features, rotation='vertical')\n",
    "plt.ylabel('Score')\n",
    "plt.xlabel('Features')\n",
    "plt.title('Feature importances - Random Forest')\n",
    "plt.show()"
   ]
  },
  {
   "cell_type": "markdown",
   "metadata": {},
   "source": [
    "# Conclusion"
   ]
  },
  {
   "cell_type": "markdown",
   "metadata": {},
   "source": [
    "On completion of Seattle AirBnB booking analysis we could clearly find the busiest time of the year in January, July and August. With the most expensive neighbourhoods being Magnolia, Queen Anne and Downtown.\n",
    "\n",
    "We could also predict the price of a property based on its features. In particular, we’ve found that Random Forest is probably one of the best kinds of model to predict continuous price metrics based on numerical and one-hot encoded categorical features. The strongest indicators of booking prices are cleaning fee, number of bathrooms and beds followed by minimum number of nights, room type and number of reviews. It should be mentioned that although individual neighbourhood features (one-hot encoded) scored relatively low individually, they are likely to be quite an important feature if combined.\n"
   ]
  },
  {
   "cell_type": "code",
   "execution_count": null,
   "metadata": {},
   "outputs": [],
   "source": []
  }
 ],
 "metadata": {
  "celltoolbar": "Raw Cell Format",
  "kernelspec": {
   "display_name": "Python 3",
   "language": "python",
   "name": "python3"
  },
  "language_info": {
   "codemirror_mode": {
    "name": "ipython",
    "version": 3
   },
   "file_extension": ".py",
   "mimetype": "text/x-python",
   "name": "python",
   "nbconvert_exporter": "python",
   "pygments_lexer": "ipython3",
   "version": "3.7.6"
  }
 },
 "nbformat": 4,
 "nbformat_minor": 5
}
