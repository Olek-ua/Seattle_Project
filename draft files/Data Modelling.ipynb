{
 "cells": [
  {
   "cell_type": "markdown",
   "metadata": {},
   "source": [
    "# Data Modelling"
   ]
  },
  {
   "cell_type": "code",
   "execution_count": 33,
   "metadata": {},
   "outputs": [],
   "source": [
    "# importing standard librbaries\n",
    "\n",
    "import numpy as np\n",
    "import pandas as pd\n",
    "import matplotlib.pyplot as plt\n",
    "from sklearn.linear_model import LinearRegression\n",
    "from sklearn.model_selection import train_test_split\n",
    "from sklearn.metrics import r2_score, mean_squared_error\n",
    "import seaborn as sns\n",
    "%matplotlib inline"
   ]
  },
  {
   "cell_type": "code",
   "execution_count": 34,
   "metadata": {},
   "outputs": [],
   "source": [
    "# importing pre-processed data - look in 'Data Preparation - Seatle AirBnB' for detailed steps\n",
    "\n",
    "clean_listings_df = pd.read_csv('./listings_clean.csv')"
   ]
  },
  {
   "cell_type": "markdown",
   "metadata": {},
   "source": [
    "## Feature Scaling "
   ]
  },
  {
   "cell_type": "code",
   "execution_count": 35,
   "metadata": {},
   "outputs": [],
   "source": [
    "# At this step we will normalise and standartise our data by doing it within sisngle pipeline\n",
    "\n",
    "from sklearn.preprocessing import StandardScaler\n",
    "from sklearn.preprocessing import MinMaxScaler\n",
    "from sklearn.pipeline import Pipeline\n",
    "\n",
    "num_pipeline = Pipeline([\n",
    "    ('std_scaler', StandardScaler()),\n",
    "    ('norm_scaler', MinMaxScaler()),   \n",
    "])"
   ]
  },
  {
   "cell_type": "code",
   "execution_count": 36,
   "metadata": {},
   "outputs": [],
   "source": [
    "# We receive our output in array\n",
    "clean_listings_tr = num_pipeline.fit_transform(clean_listings_df)\n",
    "\n",
    "# Building new df with tranformed data\n",
    "\n",
    "clean_listings_tr = pd.DataFrame(clean_listings_tr, columns = clean_listings_df.columns,\n",
    "                                  index = clean_listings_df.index) "
   ]
  },
  {
   "cell_type": "markdown",
   "metadata": {},
   "source": [
    "## Train / test split"
   ]
  },
  {
   "cell_type": "code",
   "execution_count": 37,
   "metadata": {},
   "outputs": [],
   "source": [
    "#Split into explanatory and response variables\n",
    "\n",
    "X = clean_listings_df.drop(['price_x'], axis = 1)\n",
    "y = clean_listings_df['price_x'].copy()\n",
    "\n",
    "#Split into train and test\n",
    "\n",
    "X_train, X_test, y_train, y_test = train_test_split(X, y, test_size = .30, random_state=42) "
   ]
  },
  {
   "cell_type": "markdown",
   "metadata": {},
   "source": [
    "## Linear Regression"
   ]
  },
  {
   "cell_type": "code",
   "execution_count": 38,
   "metadata": {},
   "outputs": [
    {
     "data": {
      "text/plain": [
       "LinearRegression(normalize=True)"
      ]
     },
     "execution_count": 38,
     "metadata": {},
     "output_type": "execute_result"
    }
   ],
   "source": [
    "# Testing on Linear regression\n",
    "\n",
    "lm_model = LinearRegression(normalize=True) # Instantiate\n",
    "lm_model.fit(X_train, y_train) #Fit"
   ]
  },
  {
   "cell_type": "code",
   "execution_count": 39,
   "metadata": {},
   "outputs": [
    {
     "data": {
      "text/plain": [
       "'The r-squared score for your model was 0.5926181831561046 on 280363 values.'"
      ]
     },
     "execution_count": 39,
     "metadata": {},
     "output_type": "execute_result"
    }
   ],
   "source": [
    "#Predict and score the model\n",
    "y_test_preds = lm_model.predict(X_test)\n",
    "\n",
    "\"The r-squared score for your model was {} on {} values.\".format(r2_score(y_test, y_test_preds), len(y_test))"
   ]
  },
  {
   "cell_type": "markdown",
   "metadata": {},
   "source": [
    "Low R-squared score for Linear Regression indicates the fact that model is underfitting. This is likely to happen due to the inability of linear regression to find more complex non-linear connection between attributes. "
   ]
  },
  {
   "cell_type": "markdown",
   "metadata": {},
   "source": [
    "## Random Forest"
   ]
  },
  {
   "cell_type": "code",
   "execution_count": 40,
   "metadata": {},
   "outputs": [],
   "source": [
    "# Let's use Random Forest to find more comlex non-linear relationships in data\n",
    "\n",
    "from sklearn.ensemble import RandomForestRegressor\n",
    "from sklearn.model_selection import GridSearchCV"
   ]
  },
  {
   "cell_type": "code",
   "execution_count": 41,
   "metadata": {},
   "outputs": [
    {
     "data": {
      "text/plain": [
       "GridSearchCV(cv=5, estimator=RandomForestRegressor(),\n",
       "             param_grid=[{'max_features': [2, 4, 6, 8],\n",
       "                          'n_estimators': [3, 10, 30]},\n",
       "                         {'bootstrap': [False], 'max_features': [2, 3, 4],\n",
       "                          'n_estimators': [3, 10]}],\n",
       "             return_train_score=True, scoring='neg_mean_squared_error')"
      ]
     },
     "execution_count": 41,
     "metadata": {},
     "output_type": "execute_result"
    }
   ],
   "source": [
    "# Grid search feature will help us to find the right combination of max_features and n_estimators for our model\n",
    "\n",
    "param_grid = [\n",
    "    {'n_estimators':[3,10,30],'max_features':[2,4,6,8]},\n",
    "    {'bootstrap':[False],'n_estimators':[3,10], 'max_features':[2,3,4]},\n",
    "    ]\n",
    "\n",
    "forest_reg = RandomForestRegressor()\n",
    "\n",
    "# We also specify number of cross validations\n",
    "\n",
    "grid_search = GridSearchCV(forest_reg, param_grid, cv = 5,\n",
    "                           scoring = 'neg_mean_squared_error',\n",
    "                           return_train_score = True)\n",
    "\n",
    "grid_search.fit(X_train, y_train)"
   ]
  },
  {
   "cell_type": "code",
   "execution_count": 42,
   "metadata": {},
   "outputs": [
    {
     "name": "stdout",
     "output_type": "stream",
     "text": [
      "14.80742708442583 {'max_features': 2, 'n_estimators': 3}\n",
      "14.665805582906884 {'max_features': 2, 'n_estimators': 10}\n",
      "14.613858613892374 {'max_features': 2, 'n_estimators': 30}\n",
      "14.810062287829982 {'max_features': 4, 'n_estimators': 3}\n",
      "14.666078935916905 {'max_features': 4, 'n_estimators': 10}\n",
      "14.61007382638659 {'max_features': 4, 'n_estimators': 30}\n",
      "14.790648218434555 {'max_features': 6, 'n_estimators': 3}\n",
      "14.662041825042882 {'max_features': 6, 'n_estimators': 10}\n",
      "14.615406630169824 {'max_features': 6, 'n_estimators': 30}\n",
      "14.798437482208067 {'max_features': 8, 'n_estimators': 3}\n",
      "14.641115818377665 {'max_features': 8, 'n_estimators': 10}\n",
      "14.614589346257208 {'max_features': 8, 'n_estimators': 30}\n",
      "14.623864852835249 {'bootstrap': False, 'max_features': 2, 'n_estimators': 3}\n",
      "14.608476539061162 {'bootstrap': False, 'max_features': 2, 'n_estimators': 10}\n",
      "14.620798103748253 {'bootstrap': False, 'max_features': 3, 'n_estimators': 3}\n",
      "14.60672985081835 {'bootstrap': False, 'max_features': 3, 'n_estimators': 10}\n",
      "14.619306742207186 {'bootstrap': False, 'max_features': 4, 'n_estimators': 3}\n",
      "14.60566451125384 {'bootstrap': False, 'max_features': 4, 'n_estimators': 10}\n"
     ]
    }
   ],
   "source": [
    "# if we continue to search with higher, the score may improve \n",
    "\n",
    "# You can also get the best estimator directly \n",
    "\n",
    "grid_search.best_estimator_\n",
    "\n",
    "# If GridSearchCV is initialized with refit=True (which is the default), \n",
    "# then once it finds the best estimator using cross- validation, it retrains \n",
    "# it on the whole training set.\n",
    "\n",
    "# Evaluations scores are also available\n",
    "cvres = grid_search.cv_results_\n",
    "\n",
    "for mean_score, params in zip (cvres[\"mean_test_score\"], cvres[\"params\"]):\n",
    "    print(np.sqrt(-mean_score), params)"
   ]
  },
  {
   "cell_type": "code",
   "execution_count": 43,
   "metadata": {},
   "outputs": [
    {
     "data": {
      "text/plain": [
       "'The r-squared score for your model was 0.9804751416020936 on 280363 values.'"
      ]
     },
     "execution_count": 43,
     "metadata": {},
     "output_type": "execute_result"
    }
   ],
   "source": [
    "#Predict and score the model\n",
    "y_test_preds = grid_search.predict(X_test)\n",
    "\n",
    "\"The r-squared score for your model was {} on {} values.\".format(r2_score(y_test, y_test_preds), len(y_test))"
   ]
  },
  {
   "cell_type": "code",
   "execution_count": 44,
   "metadata": {},
   "outputs": [
    {
     "data": {
      "text/plain": [
       "RandomForestRegressor(bootstrap=False, max_features=4, n_estimators=10)"
      ]
     },
     "execution_count": 44,
     "metadata": {},
     "output_type": "execute_result"
    }
   ],
   "source": [
    "# So far this is the best model we could produce \n",
    "grid_search.best_estimator_\n",
    "\n",
    "#bootstrap=False, max_features=4, n_estimators=10"
   ]
  },
  {
   "cell_type": "markdown",
   "metadata": {},
   "source": [
    "### Feature Importances"
   ]
  },
  {
   "cell_type": "code",
   "execution_count": 47,
   "metadata": {},
   "outputs": [
    {
     "data": {
      "text/plain": [
       "[(0.17803787847413619, 'beds'),\n",
       " (0.1561785751766652, 'bathrooms'),\n",
       " (0.1407561800352261, 'cleaning_fee'),\n",
       " (0.058305333258753665, 'room_type_Imputed_dPrivate room'),\n",
       " (0.04739203449245012, 'month'),\n",
       " (0.04190388206405753, 'extra_people'),\n",
       " (0.040399538368748454, 'number_of_reviews'),\n",
       " (0.03358554898580498, 'review_scores_rating'),\n",
       " (0.03258392770250782, 'host_since_year'),\n",
       " (0.03077110956808467, 'availability_30'),\n",
       " (0.030580900547716467, 'minimum_nights'),\n",
       " (0.0220225469519129, 'maximum_nights'),\n",
       " (0.020248377924861068, 'review_scores_location'),\n",
       " (0.018321796325899368, 'neighbourhood_group_cleansed_Imputed_dDowntown'),\n",
       " (0.015259618163329686, 'room_type_Imputed_dShared room'),\n",
       " (0.011592652541617511, 'property_type_Imputed_dHouse'),\n",
       " (0.011048907621513268, 'host_is_superhost_Imputed_dt'),\n",
       " (0.010982550085170958, 'neighbourhood_group_cleansed_Imputed_dQueen Anne'),\n",
       " (0.010978990797787132, 'host_response_time_Imputed_dwithin a few hours'),\n",
       " (0.010901643275036375, 'host_response_time_Imputed_dwithin an hour'),\n",
       " (0.00984549419449686,\n",
       "  'neighbourhood_group_cleansed_Imputed_dOther neighborhoods'),\n",
       " (0.007745822236129152, 'neighbourhood_group_cleansed_Imputed_dMagnolia'),\n",
       " (0.0070624939066704735, 'host_response_time_Imputed_dwithin a day'),\n",
       " (0.006581974073381481, 'neighbourhood_group_cleansed_Imputed_dCapitol Hill'),\n",
       " (0.005026564934714596, 'neighbourhood_group_cleansed_Imputed_dCentral Area'),\n",
       " (0.004542222290854851, 'property_type_Imputed_dBoat'),\n",
       " (0.004325170133048945, 'neighbourhood_group_cleansed_Imputed_dWest Seattle'),\n",
       " (0.003982111110393002, 'bed_type_Imputed_dReal Bed'),\n",
       " (0.003315582806177339, 'neighbourhood_group_cleansed_Imputed_dCascade'),\n",
       " (0.0029237062467229688, 'property_type_Imputed_dCondominium'),\n",
       " (0.002440735449790606, 'neighbourhood_group_cleansed_Imputed_dDelridge'),\n",
       " (0.0023987549642532483, 'neighbourhood_group_cleansed_Imputed_dBeacon Hill'),\n",
       " (0.002087037814455055,\n",
       "  'neighbourhood_group_cleansed_Imputed_dRainier Valley'),\n",
       " (0.0020216138686050614, 'neighbourhood_group_cleansed_Imputed_dNorthgate'),\n",
       " (0.001981183463851733,\n",
       "  'neighbourhood_group_cleansed_Imputed_dUniversity District'),\n",
       " (0.0015911960195684471, 'property_type_Imputed_dTownhouse'),\n",
       " (0.001575024499840152, 'bed_type_Imputed_dFuton'),\n",
       " (0.0013622092611864079, 'neighbourhood_group_cleansed_Imputed_dLake City'),\n",
       " (0.001218686729566838, 'property_type_Imputed_dBed & Breakfast'),\n",
       " (0.0011995501307085741, 'property_type_Imputed_dLoft'),\n",
       " (0.0011437464983463754, 'property_type_Imputed_dCamper/RV'),\n",
       " (0.000974898120091949, 'bed_type_Imputed_dPull-out Sofa'),\n",
       " (0.0008968672304374206, 'neighbourhood_group_cleansed_Imputed_dSeward Park'),\n",
       " (0.0006864935854133169, 'property_type_Imputed_dOther'),\n",
       " (0.00031904136417928465, 'bed_type_Imputed_dCouch'),\n",
       " (0.000278846585537224, 'neighbourhood_group_cleansed_Imputed_dInterbay'),\n",
       " (0.00026151548296890297, 'property_type_Imputed_dCabin'),\n",
       " (0.00016266007823812582, 'property_type_Imputed_dBungalow'),\n",
       " (7.555818943298832e-05, 'property_type_Imputed_dTent'),\n",
       " (5.634359328458509e-05, 'property_type_Imputed_dTreehouse'),\n",
       " (4.435608838401586e-05, 'property_type_Imputed_dDorm'),\n",
       " (2.0390100606305604e-05, 'property_type_Imputed_dChalet'),\n",
       " (1.5658738413305266e-07, 'property_type_Imputed_dYurt')]"
      ]
     },
     "execution_count": 47,
     "metadata": {},
     "output_type": "execute_result"
    }
   ],
   "source": [
    "# Let's analyse importance of predicting attributes\n",
    "\n",
    "feature_importances = grid_search.best_estimator_.feature_importances_\n",
    "feature_importances\n",
    "\n",
    "\n",
    "attributes = X_train.columns\n",
    "\n",
    "sorted(zip(feature_importances,attributes), reverse = True)"
   ]
  },
  {
   "cell_type": "code",
   "execution_count": null,
   "metadata": {},
   "outputs": [],
   "source": []
  }
 ],
 "metadata": {
  "kernelspec": {
   "display_name": "Python 3",
   "language": "python",
   "name": "python3"
  },
  "language_info": {
   "codemirror_mode": {
    "name": "ipython",
    "version": 3
   },
   "file_extension": ".py",
   "mimetype": "text/x-python",
   "name": "python",
   "nbconvert_exporter": "python",
   "pygments_lexer": "ipython3",
   "version": "3.7.6"
  }
 },
 "nbformat": 4,
 "nbformat_minor": 4
}
