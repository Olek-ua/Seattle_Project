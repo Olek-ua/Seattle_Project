{
 "cells": [
  {
   "cell_type": "markdown",
   "metadata": {},
   "source": [
    "# Data preparation - Seatle AirBnB"
   ]
  },
  {
   "cell_type": "code",
   "execution_count": 99,
   "metadata": {},
   "outputs": [],
   "source": [
    "#Importing standard liabraries\n",
    "\n",
    "%matplotlib inline\n",
    "\n",
    "import numpy as np\n",
    "import pandas as pd\n",
    "import matplotlib.pyplot as plt\n",
    "from sklearn.model_selection import train_test_split\n",
    "import seaborn as sns"
   ]
  },
  {
   "cell_type": "code",
   "execution_count": 100,
   "metadata": {},
   "outputs": [],
   "source": [
    "# Uploading AirBnB data sets\n",
    "\n",
    "calendar_df = pd.read_csv('calendar.csv')\n",
    "\n",
    "listing_df = pd.read_csv('listings.csv')\n",
    "\n",
    "reviews_df = pd.read_csv('reviews.csv')"
   ]
  },
  {
   "cell_type": "markdown",
   "metadata": {},
   "source": [
    "As we've seen in the __Data understanding__ step: \n",
    "\n",
    "- Some of the attributes from Seattle dataset have missing data\n",
    "    - Luckily for us only a small proportion of those attributes we are going to use in the model have around 10% of missing values. The rest of data is complete.\n",
    "- We've identified highly correlated attributes from the same categories\n",
    "    - Those attributes will be excluded from the training model "
   ]
  },
  {
   "cell_type": "markdown",
   "metadata": {},
   "source": [
    "It certainly does not make sense to use all categorical and numerical values for our data model. Hence we will focus on the most reasonable predictors. For instance for numerical variables we will exclude all highly  correlated attributes, this will save us from multicollinearity issues in the future. (See Data Understanding - correlation heatmap)\n",
    "\n",
    "As for categorical, we will have to apply a bit of common sense and exclude such as: state, city, picture_url, name etc."
   ]
  },
  {
   "cell_type": "markdown",
   "metadata": {},
   "source": [
    "## Removing less usefull attributes"
   ]
  },
  {
   "cell_type": "code",
   "execution_count": 101,
   "metadata": {},
   "outputs": [],
   "source": [
    "# Removing all rows from listing_df that don't have price records\n",
    "\n",
    "listing_df = listing_df.dropna(subset=['price'],axis=0)\n"
   ]
  },
  {
   "cell_type": "code",
   "execution_count": 102,
   "metadata": {},
   "outputs": [
    {
     "data": {
      "text/plain": [
       "Index(['id', 'last_scraped', 'transit', 'host_since', 'host_response_time',\n",
       "       'host_response_rate', 'host_acceptance_rate', 'host_is_superhost',\n",
       "       'host_listings_count', 'host_total_listings_count', 'neighbourhood',\n",
       "       'neighbourhood_group_cleansed', 'latitude', 'longitude',\n",
       "       'property_type', 'room_type', 'accommodates', 'bathrooms', 'bedrooms',\n",
       "       'beds', 'bed_type', 'square_feet', 'price', 'weekly_price',\n",
       "       'monthly_price', 'security_deposit', 'cleaning_fee', 'guests_included',\n",
       "       'extra_people', 'minimum_nights', 'maximum_nights', 'has_availability',\n",
       "       'availability_30', 'availability_60', 'availability_90',\n",
       "       'availability_365', 'number_of_reviews', 'first_review', 'last_review',\n",
       "       'review_scores_rating', 'review_scores_accuracy',\n",
       "       'review_scores_cleanliness', 'review_scores_checkin',\n",
       "       'review_scores_communication', 'review_scores_location',\n",
       "       'review_scores_value', 'calculated_host_listings_count',\n",
       "       'reviews_per_month'],\n",
       "      dtype='object')"
      ]
     },
     "execution_count": 102,
     "metadata": {},
     "output_type": "execute_result"
    }
   ],
   "source": [
    "# Cleaning categorical variables. \n",
    "\n",
    "\n",
    "\n",
    "listing_df = listing_df.drop(columns = ['amenities','calendar_updated','cancellation_policy','city',\n",
    "                                        'space', 'neighborhood_overview', 'notes',\n",
    "                                        'medium_url', 'xl_picture_url', 'host_url', 'is_location_exact',\n",
    "                                        'country','country_code','description','experiences_offered','calendar_last_scraped',\n",
    "                                        'host_has_profile_pic','host_id','host_name','host_picture_url', 'host_about', 'host_verifications',\n",
    "                                        'host_thumbnail_url','listing_url','market','name','neighbourhood_cleansed',\n",
    "                                        'jurisdiction_names', 'require_guest_profile_picture', 'smart_location',\n",
    "                                        'picture_url','scrape_id','state','street','summary','thumbnail_url','zipcode',\n",
    "                                        'host_location', 'host_neighbourhood', 'host_identity_verified','requires_license',\n",
    "                                        'instant_bookable','require_guest_phone_verification','license'])\n",
    "\n",
    "\n",
    "\n",
    "listing_df.columns"
   ]
  },
  {
   "cell_type": "code",
   "execution_count": 103,
   "metadata": {},
   "outputs": [
    {
     "data": {
      "text/plain": [
       "Index(['id', 'transit', 'host_since', 'host_response_time',\n",
       "       'host_acceptance_rate', 'host_is_superhost', 'neighbourhood',\n",
       "       'neighbourhood_group_cleansed', 'property_type', 'room_type',\n",
       "       'bathrooms', 'beds', 'bed_type', 'square_feet', 'price', 'weekly_price',\n",
       "       'monthly_price', 'security_deposit', 'cleaning_fee', 'extra_people',\n",
       "       'minimum_nights', 'maximum_nights', 'has_availability',\n",
       "       'availability_30', 'number_of_reviews', 'first_review', 'last_review',\n",
       "       'review_scores_rating', 'review_scores_location', 'reviews_per_month'],\n",
       "      dtype='object')"
      ]
     },
     "execution_count": 103,
     "metadata": {},
     "output_type": "execute_result"
    }
   ],
   "source": [
    "# Cleaning nuemrical variables. \n",
    "\n",
    "listing_df = listing_df.drop(columns = ['last_scraped','host_response_rate','accommodates','bedrooms',\n",
    "                                        'host_listings_count','host_total_listings_count',\n",
    "                                        'guests_included','availability_60','availability_90', 'availability_365',\n",
    "                                        'review_scores_accuracy','review_scores_cleanliness','review_scores_checkin',\n",
    "                                        'review_scores_communication','review_scores_value', 'longitude','latitude',\n",
    "                                        'calculated_host_listings_count'])\n",
    "listing_df.columns"
   ]
  },
  {
   "cell_type": "code",
   "execution_count": 104,
   "metadata": {},
   "outputs": [
    {
     "data": {
      "text/plain": [
       "['square_feet', 'weekly_price', 'monthly_price', 'security_deposit']"
      ]
     },
     "execution_count": 104,
     "metadata": {},
     "output_type": "execute_result"
    }
   ],
   "source": [
    "# Let's review attributes with more than 30% of missing values \n",
    "\n",
    "missing_30_pct_values = list(listing_df.columns[listing_df.isnull().mean() > 0.3])\n",
    "\n",
    "missing_30_pct_values"
   ]
  },
  {
   "cell_type": "code",
   "execution_count": 105,
   "metadata": {},
   "outputs": [
    {
     "data": {
      "text/plain": [
       "Index(['id', 'host_since', 'host_response_time', 'host_is_superhost',\n",
       "       'neighbourhood_group_cleansed', 'property_type', 'room_type',\n",
       "       'bathrooms', 'beds', 'bed_type', 'price', 'cleaning_fee',\n",
       "       'extra_people', 'minimum_nights', 'maximum_nights', 'has_availability',\n",
       "       'availability_30', 'number_of_reviews', 'review_scores_rating',\n",
       "       'review_scores_location'],\n",
       "      dtype='object')"
      ]
     },
     "execution_count": 105,
     "metadata": {},
     "output_type": "execute_result"
    }
   ],
   "source": [
    "# Let's drop columns with more than 30% missing values\n",
    "\n",
    "listing_df = listing_df.drop(columns = ['first_review','host_acceptance_rate',\n",
    "                                                     'last_review','monthly_price','neighbourhood',\n",
    "                                                     'reviews_per_month','security_deposit','square_feet',\n",
    "                                                     'transit','weekly_price'])\n",
    "listing_df.columns"
   ]
  },
  {
   "cell_type": "markdown",
   "metadata": {},
   "source": [
    "## Data Cleaning"
   ]
  },
  {
   "cell_type": "markdown",
   "metadata": {},
   "source": [
    "### Numerical functions"
   ]
  },
  {
   "cell_type": "code",
   "execution_count": 106,
   "metadata": {},
   "outputs": [],
   "source": [
    "# defining fucntions for cleaning numerical values\n",
    "\n",
    "# Function for converting string to datetime\n",
    "import datetime\n",
    "def str_to_date(x):\n",
    "    '''function for converting string to datetime'''\n",
    "    x = datetime.datetime.strptime(x, \"%Y-%m-%d\").date()\n",
    "    return x\n",
    "\n",
    "# Function for filling missing values with mean - this will work on low 10% numerical missing values\n",
    "def fill_mean(x):\n",
    "    '''Function for filling missing values with mean'''\n",
    "    x  = x.fillna(x.mean())\n",
    "    return x\n",
    "    \n",
    "# Let's re-use our financial_to_float function from data exploration step\n",
    "def financial_to_float(x):\n",
    "    '''function for converting text values with $ into float variables'''\n",
    "    x = x.replace(\",\", \"\")\n",
    "    return float(x.strip('$'))\n"
   ]
  },
  {
   "cell_type": "markdown",
   "metadata": {},
   "source": [
    "### Categorical functions"
   ]
  },
  {
   "cell_type": "code",
   "execution_count": 107,
   "metadata": {},
   "outputs": [],
   "source": [
    "# defining fucntions for cleaning categorical values\n",
    "\n",
    "# Here we will replace missing categorical variables with the most frequent value - mode \n",
    "def impute_nan_most_frequent_category(DataFrame,ColName):\n",
    "    # .mode()[0] - gives first category name\n",
    "     most_frequent_category=DataFrame[ColName].mode()[0]\n",
    "    \n",
    "    # replace nan values with most occured category\n",
    "     DataFrame[ColName + \"_Imputed\"] = DataFrame[ColName]\n",
    "     DataFrame[ColName + \"_Imputed\"].fillna(most_frequent_category,inplace=True)\n",
    "    "
   ]
  },
  {
   "cell_type": "markdown",
   "metadata": {},
   "source": [
    "### Assembling main function"
   ]
  },
  {
   "cell_type": "code",
   "execution_count": 108,
   "metadata": {},
   "outputs": [],
   "source": [
    "# defining main cleaning function\n",
    "\n",
    "financials = ['price_x','cleaning_fee','extra_people']\n",
    "numerics = [['bathrooms','beds','cleaning_fee','review_scores_rating','review_scores_location','extra_people']]\n",
    "categorical_varaibles = ['host_response_time','host_is_superhost','property_type','host_response_time',\n",
    "                         'host_is_superhost','neighbourhood_group_cleansed','property_type','room_type',\n",
    "                        'bed_type']\n",
    "\n",
    "\n",
    "\n",
    "def clean_data (listing_df,calendar_df):\n",
    "    '''\n",
    "    INPUT\n",
    "    listings_df - dataframe containing listings data\n",
    "    calendar_df - dataframe with availability and prices\n",
    "    \n",
    "    OUTPUT \n",
    "    clean data\n",
    "    '''\n",
    "    # merging listings and calendar at this step\n",
    "    listing_df = listing_df.rename(columns={\"id\": \"listing_id\"})\n",
    "    full_df = pd.merge(calendar_df,listing_df, on = 'listing_id')\n",
    "    \n",
    "    # subsetting only rows with price from calendar - price on available dates\n",
    "    full_df = full_df[pd.notnull(full_df[\"price_x\"])]\n",
    "    \n",
    "    # we fill nan for host_since with '2016-01-04' - the scrape date\n",
    "    full_df['host_since'] = full_df['host_since'].fillna(str('2016-01-04'))\n",
    "    \n",
    "    # cleaning date columns\n",
    "    full_df['host_since'] = full_df['host_since'].astype(str).apply(str_to_date)\n",
    "    full_df['host_since_year'] = pd.DatetimeIndex(full_df['host_since']).year\n",
    "    full_df['host_since_year'] = full_df['host_since_year'].astype(int)\n",
    "    full_df['date'] = full_df['date'].astype(str).apply(str_to_date)\n",
    "    full_df['month'] = pd.DatetimeIndex(full_df['date']).month\n",
    "    full_df['month'] = full_df['month'].astype(int)\n",
    "    \n",
    "    # formatting financial values\n",
    "    for i in financials:\n",
    "        full_df[i] = full_df[i].fillna('$0').apply(financial_to_float)\n",
    "        \n",
    "    # Imputing low 10% of missing numerics with mode values\n",
    "    for i in numerics:\n",
    "        full_df[i] = full_df[i].apply(fill_mean, axis = 0)\n",
    "    \n",
    "    # Imputing low 10% of missing categorical with mode values\n",
    "    for i in categorical_varaibles:\n",
    "        impute_nan_most_frequent_category(full_df,i)\n",
    "        \n",
    "    # dropping less useful numeric columns \n",
    "    full_df = full_df.drop(columns = ['host_since','date','price_y','listing_id'])\n",
    "    \n",
    "    # dropping less used cat columns \n",
    "    full_df = full_df.drop(columns = categorical_varaibles)\n",
    "    full_df = full_df.drop(columns = ['available','has_availability'])\n",
    "    \n",
    "    # One-hot encoding for categorical variables\n",
    "    cat_vars = full_df.select_dtypes(include=['object']).copy().columns\n",
    "\n",
    "    for var in  cat_vars:\n",
    "        # for each cat add dummy var, drop original column\n",
    "        full_df = pd.concat([full_df.drop(var, axis=1), \n",
    "                                       pd.get_dummies(full_df[var], \n",
    "                                       prefix=var, prefix_sep='_d', drop_first=True)], axis=1)\n",
    "\n",
    "    \n",
    "    return full_df"
   ]
  },
  {
   "cell_type": "code",
   "execution_count": 109,
   "metadata": {},
   "outputs": [],
   "source": [
    "full_df = clean_data (listing_df,calendar_df)"
   ]
  },
  {
   "cell_type": "markdown",
   "metadata": {},
   "source": [
    "### Reviewing results and saving cleaned data frame as csv"
   ]
  },
  {
   "cell_type": "code",
   "execution_count": 113,
   "metadata": {},
   "outputs": [
    {
     "name": "stdout",
     "output_type": "stream",
     "text": [
      "<class 'pandas.core.frame.DataFrame'>\n",
      "Int64Index: 934542 entries, 0 to 1393213\n",
      "Data columns (total 54 columns):\n",
      " #   Column                                                     Non-Null Count   Dtype  \n",
      "---  ------                                                     --------------   -----  \n",
      " 0   price_x                                                    934542 non-null  float64\n",
      " 1   bathrooms                                                  934542 non-null  float64\n",
      " 2   beds                                                       934542 non-null  float64\n",
      " 3   cleaning_fee                                               934542 non-null  float64\n",
      " 4   extra_people                                               934542 non-null  float64\n",
      " 5   minimum_nights                                             934542 non-null  int64  \n",
      " 6   maximum_nights                                             934542 non-null  int64  \n",
      " 7   availability_30                                            934542 non-null  int64  \n",
      " 8   number_of_reviews                                          934542 non-null  int64  \n",
      " 9   review_scores_rating                                       934542 non-null  float64\n",
      " 10  review_scores_location                                     934542 non-null  float64\n",
      " 11  host_since_year                                            934542 non-null  int64  \n",
      " 12  month                                                      934542 non-null  int64  \n",
      " 13  host_response_time_Imputed_dwithin a day                   934542 non-null  uint8  \n",
      " 14  host_response_time_Imputed_dwithin a few hours             934542 non-null  uint8  \n",
      " 15  host_response_time_Imputed_dwithin an hour                 934542 non-null  uint8  \n",
      " 16  host_is_superhost_Imputed_dt                               934542 non-null  uint8  \n",
      " 17  property_type_Imputed_dBed & Breakfast                     934542 non-null  uint8  \n",
      " 18  property_type_Imputed_dBoat                                934542 non-null  uint8  \n",
      " 19  property_type_Imputed_dBungalow                            934542 non-null  uint8  \n",
      " 20  property_type_Imputed_dCabin                               934542 non-null  uint8  \n",
      " 21  property_type_Imputed_dCamper/RV                           934542 non-null  uint8  \n",
      " 22  property_type_Imputed_dChalet                              934542 non-null  uint8  \n",
      " 23  property_type_Imputed_dCondominium                         934542 non-null  uint8  \n",
      " 24  property_type_Imputed_dDorm                                934542 non-null  uint8  \n",
      " 25  property_type_Imputed_dHouse                               934542 non-null  uint8  \n",
      " 26  property_type_Imputed_dLoft                                934542 non-null  uint8  \n",
      " 27  property_type_Imputed_dOther                               934542 non-null  uint8  \n",
      " 28  property_type_Imputed_dTent                                934542 non-null  uint8  \n",
      " 29  property_type_Imputed_dTownhouse                           934542 non-null  uint8  \n",
      " 30  property_type_Imputed_dTreehouse                           934542 non-null  uint8  \n",
      " 31  property_type_Imputed_dYurt                                934542 non-null  uint8  \n",
      " 32  neighbourhood_group_cleansed_Imputed_dBeacon Hill          934542 non-null  uint8  \n",
      " 33  neighbourhood_group_cleansed_Imputed_dCapitol Hill         934542 non-null  uint8  \n",
      " 34  neighbourhood_group_cleansed_Imputed_dCascade              934542 non-null  uint8  \n",
      " 35  neighbourhood_group_cleansed_Imputed_dCentral Area         934542 non-null  uint8  \n",
      " 36  neighbourhood_group_cleansed_Imputed_dDelridge             934542 non-null  uint8  \n",
      " 37  neighbourhood_group_cleansed_Imputed_dDowntown             934542 non-null  uint8  \n",
      " 38  neighbourhood_group_cleansed_Imputed_dInterbay             934542 non-null  uint8  \n",
      " 39  neighbourhood_group_cleansed_Imputed_dLake City            934542 non-null  uint8  \n",
      " 40  neighbourhood_group_cleansed_Imputed_dMagnolia             934542 non-null  uint8  \n",
      " 41  neighbourhood_group_cleansed_Imputed_dNorthgate            934542 non-null  uint8  \n",
      " 42  neighbourhood_group_cleansed_Imputed_dOther neighborhoods  934542 non-null  uint8  \n",
      " 43  neighbourhood_group_cleansed_Imputed_dQueen Anne           934542 non-null  uint8  \n",
      " 44  neighbourhood_group_cleansed_Imputed_dRainier Valley       934542 non-null  uint8  \n",
      " 45  neighbourhood_group_cleansed_Imputed_dSeward Park          934542 non-null  uint8  \n",
      " 46  neighbourhood_group_cleansed_Imputed_dUniversity District  934542 non-null  uint8  \n",
      " 47  neighbourhood_group_cleansed_Imputed_dWest Seattle         934542 non-null  uint8  \n",
      " 48  room_type_Imputed_dPrivate room                            934542 non-null  uint8  \n",
      " 49  room_type_Imputed_dShared room                             934542 non-null  uint8  \n",
      " 50  bed_type_Imputed_dCouch                                    934542 non-null  uint8  \n",
      " 51  bed_type_Imputed_dFuton                                    934542 non-null  uint8  \n",
      " 52  bed_type_Imputed_dPull-out Sofa                            934542 non-null  uint8  \n",
      " 53  bed_type_Imputed_dReal Bed                                 934542 non-null  uint8  \n",
      "dtypes: float64(7), int64(6), uint8(41)\n",
      "memory usage: 136.4 MB\n",
      "None\n"
     ]
    }
   ],
   "source": [
    "print(full_df.info())"
   ]
  },
  {
   "cell_type": "code",
   "execution_count": 114,
   "metadata": {},
   "outputs": [],
   "source": [
    "full_df.to_csv('listings_clean.csv',index=False)"
   ]
  },
  {
   "cell_type": "code",
   "execution_count": null,
   "metadata": {},
   "outputs": [],
   "source": []
  }
 ],
 "metadata": {
  "kernelspec": {
   "display_name": "Python 3",
   "language": "python",
   "name": "python3"
  },
  "language_info": {
   "codemirror_mode": {
    "name": "ipython",
    "version": 3
   },
   "file_extension": ".py",
   "mimetype": "text/x-python",
   "name": "python",
   "nbconvert_exporter": "python",
   "pygments_lexer": "ipython3",
   "version": "3.7.6"
  }
 },
 "nbformat": 4,
 "nbformat_minor": 4
}
